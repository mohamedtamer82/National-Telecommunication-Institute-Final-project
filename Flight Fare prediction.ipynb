{
  "cells": [
    {
      "cell_type": "markdown",
      "metadata": {},
      "source": [
        "<!DOCTYPE html>\n",
        "<html lang=\"en\">\n",
        "<head>\n",
        "  <meta charset=\"UTF-8\">\n",
        "  <meta name=\"viewport\" content=\"width=device-width, initial-scale=1.0\">\n",
        "  <title>Neon Glow Subheader and Content Box</title>\n",
        "  <style>\n",
        "    * {\n",
        "      margin: 0;\n",
        "      padding: 0;\n",
        "      box-sizing: border-box;\n",
        "    }\n",
        "\n",
        "    body {\n",
        "      font-family: \"Poppins\", sans-serif;\n",
        "      background: #000000;\n",
        "    }\n",
        "\n",
        "    .subheader {\n",
        "      max-width: 800px;\n",
        "      margin: 40px auto 20px;\n",
        "      background: linear-gradient(135deg, rgba(200, 255, 200, 0.6), rgba(150, 255, 255, 0.6));\n",
        "      color: white;\n",
        "      padding: 10px 20px;\n",
        "      border: 2px solid rgba(255, 255, 255, 0.5);\n",
        "      border-radius: 8px;\n",
        "      backdrop-filter: blur(10px);\n",
        "      box-shadow: 0 0 15px rgba(150, 255, 255, 0.6);\n",
        "      text-align: center;\n",
        "      font-size: 2rem;\n",
        "      font-weight: 600;\n",
        "      animation: gradientShift 6s ease-in-out infinite;\n",
        "    }\n",
        "\n",
        "     @keyframes gradientShift {\n",
        "      0% { background: linear-gradient(135deg, rgba(200, 255, 200, 0.6), rgba(150, 255, 255, 0.6)); }\n",
        "      50% { background: linear-gradient(135deg, rgba(150, 255, 255, 0.6), rgba(200, 255, 200, 0.6)); }\n",
        "      100% { background: linear-gradient(135deg, rgba(200, 255, 200, 0.6), rgba(150, 255, 255, 0.6)); }\n",
        "    }\n",
        "\n",
        "  \n",
        "\n",
        "    @media (max-width: 768px) {\n",
        "      .subheader {\n",
        "        margin: 20px 20px 10px;\n",
        "        padding: 8px 15px;\n",
        "        font-size: 1.5rem;\n",
        "      }\n",
        "\n",
        "    }\n",
        "  </style>\n",
        "</head>\n",
        "<body>\n",
        "  <h2 class=\"subheader\">Flight Fare Prediction</h2>\n",
        "  \n",
        "</body>\n",
        "</html>"
      ]
    },
    {
      "cell_type": "markdown",
      "metadata": {},
      "source": [
        "<h2 style=\"font-family: Poppins, sans-serif; font-size: 2rem; font-weight:600; color:rgba(150, 255, 255, 0.6); text-shadow: 0 0 6px rgba(56,189,248,0.8), 0 0 12px rgba(56,189,248,0.6);\">\n",
        "  Importing libraries\n",
        "</h2>"
      ]
    },
    {
      "cell_type": "code",
      "execution_count": 4,
      "metadata": {
        "id": "LTByDoyfgeFJ"
      },
      "outputs": [],
      "source": [
        "import pandas as pd\n",
        "import numpy as np\n",
        "import matplotlib.pyplot as plt\n",
        "import seaborn as sns\n",
        "from sklearn.linear_model import LinearRegression\n",
        "from sklearn.tree import DecisionTreeRegressor\n",
        "from sklearn.ensemble import RandomForestRegressor,VotingRegressor\n",
        "from sklearn.neighbors import KNeighborsRegressor\n",
        "from sklearn.svm import SVR\n",
        "from sklearn.metrics import r2_score,mean_absolute_error,mean_squared_error\n",
        "from xgboost import XGBRegressor\n",
        "from sklearn.metrics import mean_squared_error\n",
        "from sklearn.preprocessing import StandardScaler"
      ]
    },
    {
      "cell_type": "code",
      "execution_count": 5,
      "metadata": {
        "id": "rUGP135iiJ70"
      },
      "outputs": [],
      "source": [
        "df=pd.read_excel(r'C:\\Users\\LOQ\\OneDrive\\Desktop\\Flight_Fare_Prediction1\\data\\Data_Train.xlsx')"
      ]
    },
    {
      "cell_type": "markdown",
      "metadata": {},
      "source": [
        "<h2 style=\"font-family: Poppins, sans-serif; font-size: 2rem; font-weight:600; color:rgba(150, 255, 255, 0.6); text-shadow: 0 0 6px rgba(56,189,248,0.8), 0 0 12px rgba(56,189,248,0.6);\">\n",
        "  Data cleaning\n",
        "</h2>"
      ]
    },
    {
      "cell_type": "code",
      "execution_count": 6,
      "metadata": {
        "colab": {
          "base_uri": "https://localhost:8080/",
          "height": 275
        },
        "id": "a_OLJ9t9ighV",
        "outputId": "cf42f243-1164-4c52-9f5d-4637fa647ee8"
      },
      "outputs": [
        {
          "data": {
            "text/html": [
              "<div>\n",
              "<style scoped>\n",
              "    .dataframe tbody tr th:only-of-type {\n",
              "        vertical-align: middle;\n",
              "    }\n",
              "\n",
              "    .dataframe tbody tr th {\n",
              "        vertical-align: top;\n",
              "    }\n",
              "\n",
              "    .dataframe thead th {\n",
              "        text-align: right;\n",
              "    }\n",
              "</style>\n",
              "<table border=\"1\" class=\"dataframe\">\n",
              "  <thead>\n",
              "    <tr style=\"text-align: right;\">\n",
              "      <th></th>\n",
              "      <th>Airline</th>\n",
              "      <th>Date_of_Journey</th>\n",
              "      <th>Source</th>\n",
              "      <th>Destination</th>\n",
              "      <th>Route</th>\n",
              "      <th>Dep_Time</th>\n",
              "      <th>Arrival_Time</th>\n",
              "      <th>Duration</th>\n",
              "      <th>Total_Stops</th>\n",
              "      <th>Additional_Info</th>\n",
              "      <th>Price</th>\n",
              "    </tr>\n",
              "  </thead>\n",
              "  <tbody>\n",
              "    <tr>\n",
              "      <th>0</th>\n",
              "      <td>IndiGo</td>\n",
              "      <td>24/03/2019</td>\n",
              "      <td>Banglore</td>\n",
              "      <td>New Delhi</td>\n",
              "      <td>BLR → DEL</td>\n",
              "      <td>22:20</td>\n",
              "      <td>01:10 22 Mar</td>\n",
              "      <td>2h 50m</td>\n",
              "      <td>non-stop</td>\n",
              "      <td>No info</td>\n",
              "      <td>3897</td>\n",
              "    </tr>\n",
              "    <tr>\n",
              "      <th>1</th>\n",
              "      <td>Air India</td>\n",
              "      <td>1/05/2019</td>\n",
              "      <td>Kolkata</td>\n",
              "      <td>Banglore</td>\n",
              "      <td>CCU → IXR → BBI → BLR</td>\n",
              "      <td>05:50</td>\n",
              "      <td>13:15</td>\n",
              "      <td>7h 25m</td>\n",
              "      <td>2 stops</td>\n",
              "      <td>No info</td>\n",
              "      <td>7662</td>\n",
              "    </tr>\n",
              "    <tr>\n",
              "      <th>2</th>\n",
              "      <td>Jet Airways</td>\n",
              "      <td>9/06/2019</td>\n",
              "      <td>Delhi</td>\n",
              "      <td>Cochin</td>\n",
              "      <td>DEL → LKO → BOM → COK</td>\n",
              "      <td>09:25</td>\n",
              "      <td>04:25 10 Jun</td>\n",
              "      <td>19h</td>\n",
              "      <td>2 stops</td>\n",
              "      <td>No info</td>\n",
              "      <td>13882</td>\n",
              "    </tr>\n",
              "    <tr>\n",
              "      <th>3</th>\n",
              "      <td>IndiGo</td>\n",
              "      <td>12/05/2019</td>\n",
              "      <td>Kolkata</td>\n",
              "      <td>Banglore</td>\n",
              "      <td>CCU → NAG → BLR</td>\n",
              "      <td>18:05</td>\n",
              "      <td>23:30</td>\n",
              "      <td>5h 25m</td>\n",
              "      <td>1 stop</td>\n",
              "      <td>No info</td>\n",
              "      <td>6218</td>\n",
              "    </tr>\n",
              "    <tr>\n",
              "      <th>4</th>\n",
              "      <td>IndiGo</td>\n",
              "      <td>01/03/2019</td>\n",
              "      <td>Banglore</td>\n",
              "      <td>New Delhi</td>\n",
              "      <td>BLR → NAG → DEL</td>\n",
              "      <td>16:50</td>\n",
              "      <td>21:35</td>\n",
              "      <td>4h 45m</td>\n",
              "      <td>1 stop</td>\n",
              "      <td>No info</td>\n",
              "      <td>13302</td>\n",
              "    </tr>\n",
              "  </tbody>\n",
              "</table>\n",
              "</div>"
            ],
            "text/plain": [
              "       Airline Date_of_Journey    Source Destination                  Route  \\\n",
              "0       IndiGo      24/03/2019  Banglore   New Delhi              BLR → DEL   \n",
              "1    Air India       1/05/2019   Kolkata    Banglore  CCU → IXR → BBI → BLR   \n",
              "2  Jet Airways       9/06/2019     Delhi      Cochin  DEL → LKO → BOM → COK   \n",
              "3       IndiGo      12/05/2019   Kolkata    Banglore        CCU → NAG → BLR   \n",
              "4       IndiGo      01/03/2019  Banglore   New Delhi        BLR → NAG → DEL   \n",
              "\n",
              "  Dep_Time  Arrival_Time Duration Total_Stops Additional_Info  Price  \n",
              "0    22:20  01:10 22 Mar   2h 50m    non-stop         No info   3897  \n",
              "1    05:50         13:15   7h 25m     2 stops         No info   7662  \n",
              "2    09:25  04:25 10 Jun      19h     2 stops         No info  13882  \n",
              "3    18:05         23:30   5h 25m      1 stop         No info   6218  \n",
              "4    16:50         21:35   4h 45m      1 stop         No info  13302  "
            ]
          },
          "execution_count": 6,
          "metadata": {},
          "output_type": "execute_result"
        }
      ],
      "source": [
        "df.head()"
      ]
    },
    {
      "cell_type": "code",
      "execution_count": 7,
      "metadata": {
        "colab": {
          "base_uri": "https://localhost:8080/",
          "height": 300
        },
        "id": "t-yecreHijoe",
        "outputId": "e3757e92-665d-43ac-87a4-3d0229018e9d"
      },
      "outputs": [
        {
          "data": {
            "text/html": [
              "<div>\n",
              "<style scoped>\n",
              "    .dataframe tbody tr th:only-of-type {\n",
              "        vertical-align: middle;\n",
              "    }\n",
              "\n",
              "    .dataframe tbody tr th {\n",
              "        vertical-align: top;\n",
              "    }\n",
              "\n",
              "    .dataframe thead th {\n",
              "        text-align: right;\n",
              "    }\n",
              "</style>\n",
              "<table border=\"1\" class=\"dataframe\">\n",
              "  <thead>\n",
              "    <tr style=\"text-align: right;\">\n",
              "      <th></th>\n",
              "      <th>Price</th>\n",
              "    </tr>\n",
              "  </thead>\n",
              "  <tbody>\n",
              "    <tr>\n",
              "      <th>count</th>\n",
              "      <td>10683.000000</td>\n",
              "    </tr>\n",
              "    <tr>\n",
              "      <th>mean</th>\n",
              "      <td>9087.064121</td>\n",
              "    </tr>\n",
              "    <tr>\n",
              "      <th>std</th>\n",
              "      <td>4611.359167</td>\n",
              "    </tr>\n",
              "    <tr>\n",
              "      <th>min</th>\n",
              "      <td>1759.000000</td>\n",
              "    </tr>\n",
              "    <tr>\n",
              "      <th>25%</th>\n",
              "      <td>5277.000000</td>\n",
              "    </tr>\n",
              "    <tr>\n",
              "      <th>50%</th>\n",
              "      <td>8372.000000</td>\n",
              "    </tr>\n",
              "    <tr>\n",
              "      <th>75%</th>\n",
              "      <td>12373.000000</td>\n",
              "    </tr>\n",
              "    <tr>\n",
              "      <th>max</th>\n",
              "      <td>79512.000000</td>\n",
              "    </tr>\n",
              "  </tbody>\n",
              "</table>\n",
              "</div>"
            ],
            "text/plain": [
              "              Price\n",
              "count  10683.000000\n",
              "mean    9087.064121\n",
              "std     4611.359167\n",
              "min     1759.000000\n",
              "25%     5277.000000\n",
              "50%     8372.000000\n",
              "75%    12373.000000\n",
              "max    79512.000000"
            ]
          },
          "execution_count": 7,
          "metadata": {},
          "output_type": "execute_result"
        }
      ],
      "source": [
        "df.describe()"
      ]
    },
    {
      "cell_type": "code",
      "execution_count": 8,
      "metadata": {
        "colab": {
          "base_uri": "https://localhost:8080/",
          "height": 81
        },
        "id": "OwJvIgRXi9P9",
        "outputId": "c55e4d82-9247-4694-ec22-b324d1d594b3"
      },
      "outputs": [
        {
          "data": {
            "text/html": [
              "<div>\n",
              "<style scoped>\n",
              "    .dataframe tbody tr th:only-of-type {\n",
              "        vertical-align: middle;\n",
              "    }\n",
              "\n",
              "    .dataframe tbody tr th {\n",
              "        vertical-align: top;\n",
              "    }\n",
              "\n",
              "    .dataframe thead th {\n",
              "        text-align: right;\n",
              "    }\n",
              "</style>\n",
              "<table border=\"1\" class=\"dataframe\">\n",
              "  <thead>\n",
              "    <tr style=\"text-align: right;\">\n",
              "      <th></th>\n",
              "      <th>count</th>\n",
              "      <th>mean</th>\n",
              "      <th>std</th>\n",
              "      <th>min</th>\n",
              "      <th>25%</th>\n",
              "      <th>50%</th>\n",
              "      <th>75%</th>\n",
              "      <th>max</th>\n",
              "    </tr>\n",
              "  </thead>\n",
              "  <tbody>\n",
              "    <tr>\n",
              "      <th>Price</th>\n",
              "      <td>10683.0</td>\n",
              "      <td>9087.064121</td>\n",
              "      <td>4611.359167</td>\n",
              "      <td>1759.0</td>\n",
              "      <td>5277.0</td>\n",
              "      <td>8372.0</td>\n",
              "      <td>12373.0</td>\n",
              "      <td>79512.0</td>\n",
              "    </tr>\n",
              "  </tbody>\n",
              "</table>\n",
              "</div>"
            ],
            "text/plain": [
              "         count         mean          std     min     25%     50%      75%  \\\n",
              "Price  10683.0  9087.064121  4611.359167  1759.0  5277.0  8372.0  12373.0   \n",
              "\n",
              "           max  \n",
              "Price  79512.0  "
            ]
          },
          "execution_count": 8,
          "metadata": {},
          "output_type": "execute_result"
        }
      ],
      "source": [
        "df.describe().T"
      ]
    },
    {
      "cell_type": "code",
      "execution_count": 9,
      "metadata": {
        "colab": {
          "base_uri": "https://localhost:8080/",
          "height": 363
        },
        "id": "ydjYQsSEjAdn",
        "outputId": "0577bbe1-e57c-4a8f-8b16-bb3578e521e4"
      },
      "outputs": [
        {
          "data": {
            "text/html": [
              "<div>\n",
              "<style scoped>\n",
              "    .dataframe tbody tr th:only-of-type {\n",
              "        vertical-align: middle;\n",
              "    }\n",
              "\n",
              "    .dataframe tbody tr th {\n",
              "        vertical-align: top;\n",
              "    }\n",
              "\n",
              "    .dataframe thead th {\n",
              "        text-align: right;\n",
              "    }\n",
              "</style>\n",
              "<table border=\"1\" class=\"dataframe\">\n",
              "  <thead>\n",
              "    <tr style=\"text-align: right;\">\n",
              "      <th></th>\n",
              "      <th>count</th>\n",
              "      <th>unique</th>\n",
              "      <th>top</th>\n",
              "      <th>freq</th>\n",
              "    </tr>\n",
              "  </thead>\n",
              "  <tbody>\n",
              "    <tr>\n",
              "      <th>Airline</th>\n",
              "      <td>10683</td>\n",
              "      <td>12</td>\n",
              "      <td>Jet Airways</td>\n",
              "      <td>3849</td>\n",
              "    </tr>\n",
              "    <tr>\n",
              "      <th>Date_of_Journey</th>\n",
              "      <td>10683</td>\n",
              "      <td>44</td>\n",
              "      <td>18/05/2019</td>\n",
              "      <td>504</td>\n",
              "    </tr>\n",
              "    <tr>\n",
              "      <th>Source</th>\n",
              "      <td>10683</td>\n",
              "      <td>5</td>\n",
              "      <td>Delhi</td>\n",
              "      <td>4537</td>\n",
              "    </tr>\n",
              "    <tr>\n",
              "      <th>Destination</th>\n",
              "      <td>10683</td>\n",
              "      <td>6</td>\n",
              "      <td>Cochin</td>\n",
              "      <td>4537</td>\n",
              "    </tr>\n",
              "    <tr>\n",
              "      <th>Route</th>\n",
              "      <td>10682</td>\n",
              "      <td>128</td>\n",
              "      <td>DEL → BOM → COK</td>\n",
              "      <td>2376</td>\n",
              "    </tr>\n",
              "    <tr>\n",
              "      <th>Dep_Time</th>\n",
              "      <td>10683</td>\n",
              "      <td>222</td>\n",
              "      <td>18:55</td>\n",
              "      <td>233</td>\n",
              "    </tr>\n",
              "    <tr>\n",
              "      <th>Arrival_Time</th>\n",
              "      <td>10683</td>\n",
              "      <td>1343</td>\n",
              "      <td>19:00</td>\n",
              "      <td>423</td>\n",
              "    </tr>\n",
              "    <tr>\n",
              "      <th>Duration</th>\n",
              "      <td>10683</td>\n",
              "      <td>368</td>\n",
              "      <td>2h 50m</td>\n",
              "      <td>550</td>\n",
              "    </tr>\n",
              "    <tr>\n",
              "      <th>Total_Stops</th>\n",
              "      <td>10682</td>\n",
              "      <td>5</td>\n",
              "      <td>1 stop</td>\n",
              "      <td>5625</td>\n",
              "    </tr>\n",
              "    <tr>\n",
              "      <th>Additional_Info</th>\n",
              "      <td>10683</td>\n",
              "      <td>10</td>\n",
              "      <td>No info</td>\n",
              "      <td>8345</td>\n",
              "    </tr>\n",
              "  </tbody>\n",
              "</table>\n",
              "</div>"
            ],
            "text/plain": [
              "                 count unique              top  freq\n",
              "Airline          10683     12      Jet Airways  3849\n",
              "Date_of_Journey  10683     44       18/05/2019   504\n",
              "Source           10683      5            Delhi  4537\n",
              "Destination      10683      6           Cochin  4537\n",
              "Route            10682    128  DEL → BOM → COK  2376\n",
              "Dep_Time         10683    222            18:55   233\n",
              "Arrival_Time     10683   1343            19:00   423\n",
              "Duration         10683    368           2h 50m   550\n",
              "Total_Stops      10682      5           1 stop  5625\n",
              "Additional_Info  10683     10          No info  8345"
            ]
          },
          "execution_count": 9,
          "metadata": {},
          "output_type": "execute_result"
        }
      ],
      "source": [
        "df.describe(include=\"O\").T"
      ]
    },
    {
      "cell_type": "code",
      "execution_count": 10,
      "metadata": {
        "colab": {
          "base_uri": "https://localhost:8080/"
        },
        "id": "ZPMbM886jr0X",
        "outputId": "ceddc46b-630c-4cf1-da6a-e75e8550d20a"
      },
      "outputs": [
        {
          "name": "stdout",
          "output_type": "stream",
          "text": [
            "<class 'pandas.core.frame.DataFrame'>\n",
            "RangeIndex: 10683 entries, 0 to 10682\n",
            "Data columns (total 11 columns):\n",
            " #   Column           Non-Null Count  Dtype \n",
            "---  ------           --------------  ----- \n",
            " 0   Airline          10683 non-null  object\n",
            " 1   Date_of_Journey  10683 non-null  object\n",
            " 2   Source           10683 non-null  object\n",
            " 3   Destination      10683 non-null  object\n",
            " 4   Route            10682 non-null  object\n",
            " 5   Dep_Time         10683 non-null  object\n",
            " 6   Arrival_Time     10683 non-null  object\n",
            " 7   Duration         10683 non-null  object\n",
            " 8   Total_Stops      10682 non-null  object\n",
            " 9   Additional_Info  10683 non-null  object\n",
            " 10  Price            10683 non-null  int64 \n",
            "dtypes: int64(1), object(10)\n",
            "memory usage: 918.2+ KB\n"
          ]
        }
      ],
      "source": [
        "df.info()"
      ]
    },
    {
      "cell_type": "code",
      "execution_count": 11,
      "metadata": {
        "colab": {
          "base_uri": "https://localhost:8080/",
          "height": 429
        },
        "id": "cdITI_d8jssm",
        "outputId": "c6aede08-1f6f-4bb6-d4fd-ae0d922f6076"
      },
      "outputs": [
        {
          "data": {
            "text/plain": [
              "Airline            0\n",
              "Date_of_Journey    0\n",
              "Source             0\n",
              "Destination        0\n",
              "Route              1\n",
              "Dep_Time           0\n",
              "Arrival_Time       0\n",
              "Duration           0\n",
              "Total_Stops        1\n",
              "Additional_Info    0\n",
              "Price              0\n",
              "dtype: int64"
            ]
          },
          "execution_count": 11,
          "metadata": {},
          "output_type": "execute_result"
        }
      ],
      "source": [
        "df.isnull().sum()\n"
      ]
    },
    {
      "cell_type": "code",
      "execution_count": 12,
      "metadata": {
        "id": "AI98JqVUjvij"
      },
      "outputs": [],
      "source": [
        "df.dropna(inplace=True)"
      ]
    },
    {
      "cell_type": "code",
      "execution_count": 13,
      "metadata": {
        "colab": {
          "base_uri": "https://localhost:8080/"
        },
        "id": "Vhi-8j7nj0Qn",
        "outputId": "fa426781-22a4-4f30-c883-db378b5b3b67"
      },
      "outputs": [
        {
          "data": {
            "text/plain": [
              "np.int64(220)"
            ]
          },
          "execution_count": 13,
          "metadata": {},
          "output_type": "execute_result"
        }
      ],
      "source": [
        "df.duplicated().sum()"
      ]
    },
    {
      "cell_type": "code",
      "execution_count": 14,
      "metadata": {
        "id": "dqE09ujBj28o"
      },
      "outputs": [],
      "source": [
        "df.drop_duplicates(inplace=True)"
      ]
    },
    {
      "cell_type": "code",
      "execution_count": 15,
      "metadata": {
        "colab": {
          "base_uri": "https://localhost:8080/"
        },
        "id": "zXw_J-Cej5xz",
        "outputId": "f2207b54-6a8b-479f-c4ba-f2c85c3a2cce"
      },
      "outputs": [
        {
          "data": {
            "text/plain": [
              "(10462, 11)"
            ]
          },
          "execution_count": 15,
          "metadata": {},
          "output_type": "execute_result"
        }
      ],
      "source": [
        "df.shape"
      ]
    },
    {
      "cell_type": "markdown",
      "metadata": {},
      "source": [
        "<h2 style=\"font-family: Poppins, sans-serif; font-size: 2rem; font-weight:600; color:rgba(150, 255, 255, 0.6); text-shadow: 0 0 6px rgba(56,189,248,0.8), 0 0 12px rgba(56,189,248,0.6);\">\n",
        " Data Preproceesing\n",
        "</h2>"
      ]
    },
    {
      "cell_type": "code",
      "execution_count": 16,
      "metadata": {
        "colab": {
          "base_uri": "https://localhost:8080/",
          "height": 275
        },
        "id": "OL2PtuPlj6UH",
        "outputId": "5ee15207-d09b-459f-fe76-79f17f5b9fe9"
      },
      "outputs": [
        {
          "data": {
            "text/html": [
              "<div>\n",
              "<style scoped>\n",
              "    .dataframe tbody tr th:only-of-type {\n",
              "        vertical-align: middle;\n",
              "    }\n",
              "\n",
              "    .dataframe tbody tr th {\n",
              "        vertical-align: top;\n",
              "    }\n",
              "\n",
              "    .dataframe thead th {\n",
              "        text-align: right;\n",
              "    }\n",
              "</style>\n",
              "<table border=\"1\" class=\"dataframe\">\n",
              "  <thead>\n",
              "    <tr style=\"text-align: right;\">\n",
              "      <th></th>\n",
              "      <th>Airline</th>\n",
              "      <th>Date_of_Journey</th>\n",
              "      <th>Source</th>\n",
              "      <th>Destination</th>\n",
              "      <th>Route</th>\n",
              "      <th>Dep_Time</th>\n",
              "      <th>Arrival_Time</th>\n",
              "      <th>Duration</th>\n",
              "      <th>Total_Stops</th>\n",
              "      <th>Additional_Info</th>\n",
              "      <th>Price</th>\n",
              "    </tr>\n",
              "  </thead>\n",
              "  <tbody>\n",
              "    <tr>\n",
              "      <th>0</th>\n",
              "      <td>IndiGo</td>\n",
              "      <td>24/03/2019</td>\n",
              "      <td>Banglore</td>\n",
              "      <td>New Delhi</td>\n",
              "      <td>BLR → DEL</td>\n",
              "      <td>22:20</td>\n",
              "      <td>01:10 22 Mar</td>\n",
              "      <td>2h 50m</td>\n",
              "      <td>non-stop</td>\n",
              "      <td>No info</td>\n",
              "      <td>3897</td>\n",
              "    </tr>\n",
              "    <tr>\n",
              "      <th>1</th>\n",
              "      <td>Air India</td>\n",
              "      <td>1/05/2019</td>\n",
              "      <td>Kolkata</td>\n",
              "      <td>Banglore</td>\n",
              "      <td>CCU → IXR → BBI → BLR</td>\n",
              "      <td>05:50</td>\n",
              "      <td>13:15</td>\n",
              "      <td>7h 25m</td>\n",
              "      <td>2 stops</td>\n",
              "      <td>No info</td>\n",
              "      <td>7662</td>\n",
              "    </tr>\n",
              "    <tr>\n",
              "      <th>2</th>\n",
              "      <td>Jet Airways</td>\n",
              "      <td>9/06/2019</td>\n",
              "      <td>Delhi</td>\n",
              "      <td>Cochin</td>\n",
              "      <td>DEL → LKO → BOM → COK</td>\n",
              "      <td>09:25</td>\n",
              "      <td>04:25 10 Jun</td>\n",
              "      <td>19h</td>\n",
              "      <td>2 stops</td>\n",
              "      <td>No info</td>\n",
              "      <td>13882</td>\n",
              "    </tr>\n",
              "    <tr>\n",
              "      <th>3</th>\n",
              "      <td>IndiGo</td>\n",
              "      <td>12/05/2019</td>\n",
              "      <td>Kolkata</td>\n",
              "      <td>Banglore</td>\n",
              "      <td>CCU → NAG → BLR</td>\n",
              "      <td>18:05</td>\n",
              "      <td>23:30</td>\n",
              "      <td>5h 25m</td>\n",
              "      <td>1 stop</td>\n",
              "      <td>No info</td>\n",
              "      <td>6218</td>\n",
              "    </tr>\n",
              "    <tr>\n",
              "      <th>4</th>\n",
              "      <td>IndiGo</td>\n",
              "      <td>01/03/2019</td>\n",
              "      <td>Banglore</td>\n",
              "      <td>New Delhi</td>\n",
              "      <td>BLR → NAG → DEL</td>\n",
              "      <td>16:50</td>\n",
              "      <td>21:35</td>\n",
              "      <td>4h 45m</td>\n",
              "      <td>1 stop</td>\n",
              "      <td>No info</td>\n",
              "      <td>13302</td>\n",
              "    </tr>\n",
              "  </tbody>\n",
              "</table>\n",
              "</div>"
            ],
            "text/plain": [
              "       Airline Date_of_Journey    Source Destination                  Route  \\\n",
              "0       IndiGo      24/03/2019  Banglore   New Delhi              BLR → DEL   \n",
              "1    Air India       1/05/2019   Kolkata    Banglore  CCU → IXR → BBI → BLR   \n",
              "2  Jet Airways       9/06/2019     Delhi      Cochin  DEL → LKO → BOM → COK   \n",
              "3       IndiGo      12/05/2019   Kolkata    Banglore        CCU → NAG → BLR   \n",
              "4       IndiGo      01/03/2019  Banglore   New Delhi        BLR → NAG → DEL   \n",
              "\n",
              "  Dep_Time  Arrival_Time Duration Total_Stops Additional_Info  Price  \n",
              "0    22:20  01:10 22 Mar   2h 50m    non-stop         No info   3897  \n",
              "1    05:50         13:15   7h 25m     2 stops         No info   7662  \n",
              "2    09:25  04:25 10 Jun      19h     2 stops         No info  13882  \n",
              "3    18:05         23:30   5h 25m      1 stop         No info   6218  \n",
              "4    16:50         21:35   4h 45m      1 stop         No info  13302  "
            ]
          },
          "execution_count": 16,
          "metadata": {},
          "output_type": "execute_result"
        }
      ],
      "source": [
        "df.head()"
      ]
    },
    {
      "cell_type": "code",
      "execution_count": 17,
      "metadata": {
        "colab": {
          "base_uri": "https://localhost:8080/"
        },
        "id": "o9EGHSSikohX",
        "outputId": "f06deecf-b03b-42c3-cc17-7f6174409043"
      },
      "outputs": [
        {
          "name": "stderr",
          "output_type": "stream",
          "text": [
            "C:\\Users\\LOQ\\AppData\\Local\\Temp\\ipykernel_31024\\1883159462.py:1: UserWarning: Parsing dates in %d/%m/%Y format when dayfirst=False (the default) was specified. Pass `dayfirst=True` or specify a format to silence this warning.\n",
            "  df[\"Date_of_Journey\"] = pd.to_datetime(df[\"Date_of_Journey\"])\n"
          ]
        }
      ],
      "source": [
        "df[\"Date_of_Journey\"] = pd.to_datetime(df[\"Date_of_Journey\"])\n"
      ]
    },
    {
      "cell_type": "code",
      "execution_count": 18,
      "metadata": {
        "id": "4ReusU8DlGZr"
      },
      "outputs": [],
      "source": [
        "df[\"Journey_Day\"] = df[\"Date_of_Journey\"].dt.day\n"
      ]
    },
    {
      "cell_type": "code",
      "execution_count": 19,
      "metadata": {
        "id": "M6YOIiihlGWZ"
      },
      "outputs": [],
      "source": [
        "df[\"Journey_Month\"] = df[\"Date_of_Journey\"].dt.month\n"
      ]
    },
    {
      "cell_type": "code",
      "execution_count": 20,
      "metadata": {
        "id": "R-q9hFvFk5wA"
      },
      "outputs": [],
      "source": [
        "df[\"Journey_DOW\"] = df[\"Date_of_Journey\"].dt.dayofweek\n"
      ]
    },
    {
      "cell_type": "code",
      "execution_count": 21,
      "metadata": {
        "id": "p9icgwcPloy7"
      },
      "outputs": [],
      "source": [
        "df.drop(\"Date_of_Journey\",axis=1,inplace=True)"
      ]
    },
    {
      "cell_type": "code",
      "execution_count": 22,
      "metadata": {
        "colab": {
          "base_uri": "https://localhost:8080/"
        },
        "id": "gHIBXUwtlfRl",
        "outputId": "0bd953ca-6943-4bf0-8d5c-a839712d638b"
      },
      "outputs": [
        {
          "name": "stdout",
          "output_type": "stream",
          "text": [
            "<class 'pandas.core.frame.DataFrame'>\n",
            "Index: 10462 entries, 0 to 10682\n",
            "Data columns (total 13 columns):\n",
            " #   Column           Non-Null Count  Dtype \n",
            "---  ------           --------------  ----- \n",
            " 0   Airline          10462 non-null  object\n",
            " 1   Source           10462 non-null  object\n",
            " 2   Destination      10462 non-null  object\n",
            " 3   Route            10462 non-null  object\n",
            " 4   Dep_Time         10462 non-null  object\n",
            " 5   Arrival_Time     10462 non-null  object\n",
            " 6   Duration         10462 non-null  object\n",
            " 7   Total_Stops      10462 non-null  object\n",
            " 8   Additional_Info  10462 non-null  object\n",
            " 9   Price            10462 non-null  int64 \n",
            " 10  Journey_Day      10462 non-null  int32 \n",
            " 11  Journey_Month    10462 non-null  int32 \n",
            " 12  Journey_DOW      10462 non-null  int32 \n",
            "dtypes: int32(3), int64(1), object(9)\n",
            "memory usage: 1021.7+ KB\n"
          ]
        }
      ],
      "source": [
        "df.info()"
      ]
    },
    {
      "cell_type": "code",
      "execution_count": 23,
      "metadata": {
        "colab": {
          "base_uri": "https://localhost:8080/",
          "height": 608
        },
        "id": "QD5u4aEJlkAP",
        "outputId": "15c25abb-e42e-4c7c-ad7d-6d8838176546"
      },
      "outputs": [
        {
          "data": {
            "text/html": [
              "<div>\n",
              "<style scoped>\n",
              "    .dataframe tbody tr th:only-of-type {\n",
              "        vertical-align: middle;\n",
              "    }\n",
              "\n",
              "    .dataframe tbody tr th {\n",
              "        vertical-align: top;\n",
              "    }\n",
              "\n",
              "    .dataframe thead th {\n",
              "        text-align: right;\n",
              "    }\n",
              "</style>\n",
              "<table border=\"1\" class=\"dataframe\">\n",
              "  <thead>\n",
              "    <tr style=\"text-align: right;\">\n",
              "      <th></th>\n",
              "      <th>Airline</th>\n",
              "      <th>Source</th>\n",
              "      <th>Destination</th>\n",
              "      <th>Route</th>\n",
              "      <th>Dep_Time</th>\n",
              "      <th>Arrival_Time</th>\n",
              "      <th>Duration</th>\n",
              "      <th>Total_Stops</th>\n",
              "      <th>Additional_Info</th>\n",
              "      <th>Price</th>\n",
              "      <th>Journey_Day</th>\n",
              "      <th>Journey_Month</th>\n",
              "      <th>Journey_DOW</th>\n",
              "    </tr>\n",
              "  </thead>\n",
              "  <tbody>\n",
              "    <tr>\n",
              "      <th>0</th>\n",
              "      <td>IndiGo</td>\n",
              "      <td>Banglore</td>\n",
              "      <td>New Delhi</td>\n",
              "      <td>BLR → DEL</td>\n",
              "      <td>22:20</td>\n",
              "      <td>01:10 22 Mar</td>\n",
              "      <td>2h 50m</td>\n",
              "      <td>non-stop</td>\n",
              "      <td>No info</td>\n",
              "      <td>3897</td>\n",
              "      <td>24</td>\n",
              "      <td>3</td>\n",
              "      <td>6</td>\n",
              "    </tr>\n",
              "    <tr>\n",
              "      <th>1</th>\n",
              "      <td>Air India</td>\n",
              "      <td>Kolkata</td>\n",
              "      <td>Banglore</td>\n",
              "      <td>CCU → IXR → BBI → BLR</td>\n",
              "      <td>05:50</td>\n",
              "      <td>13:15</td>\n",
              "      <td>7h 25m</td>\n",
              "      <td>2 stops</td>\n",
              "      <td>No info</td>\n",
              "      <td>7662</td>\n",
              "      <td>1</td>\n",
              "      <td>5</td>\n",
              "      <td>2</td>\n",
              "    </tr>\n",
              "    <tr>\n",
              "      <th>2</th>\n",
              "      <td>Jet Airways</td>\n",
              "      <td>Delhi</td>\n",
              "      <td>Cochin</td>\n",
              "      <td>DEL → LKO → BOM → COK</td>\n",
              "      <td>09:25</td>\n",
              "      <td>04:25 10 Jun</td>\n",
              "      <td>19h</td>\n",
              "      <td>2 stops</td>\n",
              "      <td>No info</td>\n",
              "      <td>13882</td>\n",
              "      <td>9</td>\n",
              "      <td>6</td>\n",
              "      <td>6</td>\n",
              "    </tr>\n",
              "    <tr>\n",
              "      <th>3</th>\n",
              "      <td>IndiGo</td>\n",
              "      <td>Kolkata</td>\n",
              "      <td>Banglore</td>\n",
              "      <td>CCU → NAG → BLR</td>\n",
              "      <td>18:05</td>\n",
              "      <td>23:30</td>\n",
              "      <td>5h 25m</td>\n",
              "      <td>1 stop</td>\n",
              "      <td>No info</td>\n",
              "      <td>6218</td>\n",
              "      <td>12</td>\n",
              "      <td>5</td>\n",
              "      <td>6</td>\n",
              "    </tr>\n",
              "    <tr>\n",
              "      <th>4</th>\n",
              "      <td>IndiGo</td>\n",
              "      <td>Banglore</td>\n",
              "      <td>New Delhi</td>\n",
              "      <td>BLR → NAG → DEL</td>\n",
              "      <td>16:50</td>\n",
              "      <td>21:35</td>\n",
              "      <td>4h 45m</td>\n",
              "      <td>1 stop</td>\n",
              "      <td>No info</td>\n",
              "      <td>13302</td>\n",
              "      <td>1</td>\n",
              "      <td>3</td>\n",
              "      <td>4</td>\n",
              "    </tr>\n",
              "  </tbody>\n",
              "</table>\n",
              "</div>"
            ],
            "text/plain": [
              "       Airline    Source Destination                  Route Dep_Time  \\\n",
              "0       IndiGo  Banglore   New Delhi              BLR → DEL    22:20   \n",
              "1    Air India   Kolkata    Banglore  CCU → IXR → BBI → BLR    05:50   \n",
              "2  Jet Airways     Delhi      Cochin  DEL → LKO → BOM → COK    09:25   \n",
              "3       IndiGo   Kolkata    Banglore        CCU → NAG → BLR    18:05   \n",
              "4       IndiGo  Banglore   New Delhi        BLR → NAG → DEL    16:50   \n",
              "\n",
              "   Arrival_Time Duration Total_Stops Additional_Info  Price  Journey_Day  \\\n",
              "0  01:10 22 Mar   2h 50m    non-stop         No info   3897           24   \n",
              "1         13:15   7h 25m     2 stops         No info   7662            1   \n",
              "2  04:25 10 Jun      19h     2 stops         No info  13882            9   \n",
              "3         23:30   5h 25m      1 stop         No info   6218           12   \n",
              "4         21:35   4h 45m      1 stop         No info  13302            1   \n",
              "\n",
              "   Journey_Month  Journey_DOW  \n",
              "0              3            6  \n",
              "1              5            2  \n",
              "2              6            6  \n",
              "3              5            6  \n",
              "4              3            4  "
            ]
          },
          "execution_count": 23,
          "metadata": {},
          "output_type": "execute_result"
        }
      ],
      "source": [
        "df.head()"
      ]
    },
    {
      "cell_type": "code",
      "execution_count": 24,
      "metadata": {
        "colab": {
          "base_uri": "https://localhost:8080/"
        },
        "id": "x1LMnIWplszT",
        "outputId": "5bc79246-3502-4384-9bf8-0ade5151c2e1"
      },
      "outputs": [
        {
          "name": "stderr",
          "output_type": "stream",
          "text": [
            "C:\\Users\\LOQ\\AppData\\Local\\Temp\\ipykernel_31024\\1811493405.py:1: UserWarning: Could not infer format, so each element will be parsed individually, falling back to `dateutil`. To ensure parsing is consistent and as-expected, please specify a format.\n",
            "  df[\"Dep_Hour\"] = pd.to_datetime(df[\"Dep_Time\"]).dt.hour\n"
          ]
        }
      ],
      "source": [
        "df[\"Dep_Hour\"] = pd.to_datetime(df[\"Dep_Time\"]).dt.hour\n"
      ]
    },
    {
      "cell_type": "code",
      "execution_count": 25,
      "metadata": {
        "colab": {
          "base_uri": "https://localhost:8080/"
        },
        "id": "Rr0uVf54mKAJ",
        "outputId": "27f6e92e-710a-4dab-9508-8254ade7a5cc"
      },
      "outputs": [
        {
          "name": "stderr",
          "output_type": "stream",
          "text": [
            "C:\\Users\\LOQ\\AppData\\Local\\Temp\\ipykernel_31024\\3222544692.py:1: UserWarning: Could not infer format, so each element will be parsed individually, falling back to `dateutil`. To ensure parsing is consistent and as-expected, please specify a format.\n",
            "  df[\"Dep_Minute\"] = pd.to_datetime(df[\"Dep_Time\"]).dt.minute\n"
          ]
        }
      ],
      "source": [
        "df[\"Dep_Minute\"] = pd.to_datetime(df[\"Dep_Time\"]).dt.minute\n"
      ]
    },
    {
      "cell_type": "code",
      "execution_count": 26,
      "metadata": {
        "colab": {
          "base_uri": "https://localhost:8080/"
        },
        "id": "4dyAEDgcmJ82",
        "outputId": "1b49e0aa-65b9-4490-dbbe-e830f89ce956"
      },
      "outputs": [
        {
          "name": "stderr",
          "output_type": "stream",
          "text": [
            "C:\\Users\\LOQ\\AppData\\Local\\Temp\\ipykernel_31024\\1154790724.py:1: UserWarning: Could not infer format, so each element will be parsed individually, falling back to `dateutil`. To ensure parsing is consistent and as-expected, please specify a format.\n",
            "  df[\"Arrival_Hour\"] = pd.to_datetime(df[\"Arrival_Time\"]).dt.hour\n"
          ]
        }
      ],
      "source": [
        "df[\"Arrival_Hour\"] = pd.to_datetime(df[\"Arrival_Time\"]).dt.hour\n"
      ]
    },
    {
      "cell_type": "code",
      "execution_count": 27,
      "metadata": {
        "colab": {
          "base_uri": "https://localhost:8080/"
        },
        "id": "uky_R15NmJ6D",
        "outputId": "27b86ba0-0838-42d8-ea9a-0fa0d0eef673"
      },
      "outputs": [
        {
          "name": "stderr",
          "output_type": "stream",
          "text": [
            "C:\\Users\\LOQ\\AppData\\Local\\Temp\\ipykernel_31024\\1189425436.py:1: UserWarning: Could not infer format, so each element will be parsed individually, falling back to `dateutil`. To ensure parsing is consistent and as-expected, please specify a format.\n",
            "  df[\"Arrival_Minute\"] = pd.to_datetime(df[\"Arrival_Time\"]).dt.minute\n"
          ]
        }
      ],
      "source": [
        "df[\"Arrival_Minute\"] = pd.to_datetime(df[\"Arrival_Time\"]).dt.minute\n"
      ]
    },
    {
      "cell_type": "code",
      "execution_count": 28,
      "metadata": {
        "id": "JmPUXTVdmJ3G"
      },
      "outputs": [],
      "source": [
        "df.drop(\"Dep_Time\",axis=1,inplace=True)\n",
        "df.drop(\"Arrival_Time\",axis=1,inplace=True)\n"
      ]
    },
    {
      "cell_type": "code",
      "execution_count": 29,
      "metadata": {
        "id": "2y8CVI1VnG0m"
      },
      "outputs": [],
      "source": [
        "df['Duration']=df['Duration'].str.replace('h','*60').str.replace(' ','+').str.replace('m','*1').apply(eval)\n"
      ]
    },
    {
      "cell_type": "code",
      "execution_count": 30,
      "metadata": {
        "colab": {
          "base_uri": "https://localhost:8080/",
          "height": 608
        },
        "id": "s1eghWxBmZO3",
        "outputId": "7416c034-56ff-4f0f-d591-6a9dc7053b56"
      },
      "outputs": [
        {
          "data": {
            "text/html": [
              "<div>\n",
              "<style scoped>\n",
              "    .dataframe tbody tr th:only-of-type {\n",
              "        vertical-align: middle;\n",
              "    }\n",
              "\n",
              "    .dataframe tbody tr th {\n",
              "        vertical-align: top;\n",
              "    }\n",
              "\n",
              "    .dataframe thead th {\n",
              "        text-align: right;\n",
              "    }\n",
              "</style>\n",
              "<table border=\"1\" class=\"dataframe\">\n",
              "  <thead>\n",
              "    <tr style=\"text-align: right;\">\n",
              "      <th></th>\n",
              "      <th>Airline</th>\n",
              "      <th>Source</th>\n",
              "      <th>Destination</th>\n",
              "      <th>Route</th>\n",
              "      <th>Duration</th>\n",
              "      <th>Total_Stops</th>\n",
              "      <th>Additional_Info</th>\n",
              "      <th>Price</th>\n",
              "      <th>Journey_Day</th>\n",
              "      <th>Journey_Month</th>\n",
              "      <th>Journey_DOW</th>\n",
              "      <th>Dep_Hour</th>\n",
              "      <th>Dep_Minute</th>\n",
              "      <th>Arrival_Hour</th>\n",
              "      <th>Arrival_Minute</th>\n",
              "    </tr>\n",
              "  </thead>\n",
              "  <tbody>\n",
              "    <tr>\n",
              "      <th>0</th>\n",
              "      <td>IndiGo</td>\n",
              "      <td>Banglore</td>\n",
              "      <td>New Delhi</td>\n",
              "      <td>BLR → DEL</td>\n",
              "      <td>170</td>\n",
              "      <td>non-stop</td>\n",
              "      <td>No info</td>\n",
              "      <td>3897</td>\n",
              "      <td>24</td>\n",
              "      <td>3</td>\n",
              "      <td>6</td>\n",
              "      <td>22</td>\n",
              "      <td>20</td>\n",
              "      <td>1</td>\n",
              "      <td>10</td>\n",
              "    </tr>\n",
              "    <tr>\n",
              "      <th>1</th>\n",
              "      <td>Air India</td>\n",
              "      <td>Kolkata</td>\n",
              "      <td>Banglore</td>\n",
              "      <td>CCU → IXR → BBI → BLR</td>\n",
              "      <td>445</td>\n",
              "      <td>2 stops</td>\n",
              "      <td>No info</td>\n",
              "      <td>7662</td>\n",
              "      <td>1</td>\n",
              "      <td>5</td>\n",
              "      <td>2</td>\n",
              "      <td>5</td>\n",
              "      <td>50</td>\n",
              "      <td>13</td>\n",
              "      <td>15</td>\n",
              "    </tr>\n",
              "    <tr>\n",
              "      <th>2</th>\n",
              "      <td>Jet Airways</td>\n",
              "      <td>Delhi</td>\n",
              "      <td>Cochin</td>\n",
              "      <td>DEL → LKO → BOM → COK</td>\n",
              "      <td>1140</td>\n",
              "      <td>2 stops</td>\n",
              "      <td>No info</td>\n",
              "      <td>13882</td>\n",
              "      <td>9</td>\n",
              "      <td>6</td>\n",
              "      <td>6</td>\n",
              "      <td>9</td>\n",
              "      <td>25</td>\n",
              "      <td>4</td>\n",
              "      <td>25</td>\n",
              "    </tr>\n",
              "    <tr>\n",
              "      <th>3</th>\n",
              "      <td>IndiGo</td>\n",
              "      <td>Kolkata</td>\n",
              "      <td>Banglore</td>\n",
              "      <td>CCU → NAG → BLR</td>\n",
              "      <td>325</td>\n",
              "      <td>1 stop</td>\n",
              "      <td>No info</td>\n",
              "      <td>6218</td>\n",
              "      <td>12</td>\n",
              "      <td>5</td>\n",
              "      <td>6</td>\n",
              "      <td>18</td>\n",
              "      <td>5</td>\n",
              "      <td>23</td>\n",
              "      <td>30</td>\n",
              "    </tr>\n",
              "    <tr>\n",
              "      <th>4</th>\n",
              "      <td>IndiGo</td>\n",
              "      <td>Banglore</td>\n",
              "      <td>New Delhi</td>\n",
              "      <td>BLR → NAG → DEL</td>\n",
              "      <td>285</td>\n",
              "      <td>1 stop</td>\n",
              "      <td>No info</td>\n",
              "      <td>13302</td>\n",
              "      <td>1</td>\n",
              "      <td>3</td>\n",
              "      <td>4</td>\n",
              "      <td>16</td>\n",
              "      <td>50</td>\n",
              "      <td>21</td>\n",
              "      <td>35</td>\n",
              "    </tr>\n",
              "  </tbody>\n",
              "</table>\n",
              "</div>"
            ],
            "text/plain": [
              "       Airline    Source Destination                  Route  Duration  \\\n",
              "0       IndiGo  Banglore   New Delhi              BLR → DEL       170   \n",
              "1    Air India   Kolkata    Banglore  CCU → IXR → BBI → BLR       445   \n",
              "2  Jet Airways     Delhi      Cochin  DEL → LKO → BOM → COK      1140   \n",
              "3       IndiGo   Kolkata    Banglore        CCU → NAG → BLR       325   \n",
              "4       IndiGo  Banglore   New Delhi        BLR → NAG → DEL       285   \n",
              "\n",
              "  Total_Stops Additional_Info  Price  Journey_Day  Journey_Month  Journey_DOW  \\\n",
              "0    non-stop         No info   3897           24              3            6   \n",
              "1     2 stops         No info   7662            1              5            2   \n",
              "2     2 stops         No info  13882            9              6            6   \n",
              "3      1 stop         No info   6218           12              5            6   \n",
              "4      1 stop         No info  13302            1              3            4   \n",
              "\n",
              "   Dep_Hour  Dep_Minute  Arrival_Hour  Arrival_Minute  \n",
              "0        22          20             1              10  \n",
              "1         5          50            13              15  \n",
              "2         9          25             4              25  \n",
              "3        18           5            23              30  \n",
              "4        16          50            21              35  "
            ]
          },
          "execution_count": 30,
          "metadata": {},
          "output_type": "execute_result"
        }
      ],
      "source": [
        "df.head()"
      ]
    },
    {
      "cell_type": "code",
      "execution_count": 31,
      "metadata": {
        "colab": {
          "base_uri": "https://localhost:8080/"
        },
        "id": "QU1lEdhrmlFH",
        "outputId": "a0aa72b0-b248-4e7e-c2eb-3562e4d7782d"
      },
      "outputs": [
        {
          "name": "stdout",
          "output_type": "stream",
          "text": [
            "<class 'pandas.core.frame.DataFrame'>\n",
            "Index: 10462 entries, 0 to 10682\n",
            "Data columns (total 15 columns):\n",
            " #   Column           Non-Null Count  Dtype \n",
            "---  ------           --------------  ----- \n",
            " 0   Airline          10462 non-null  object\n",
            " 1   Source           10462 non-null  object\n",
            " 2   Destination      10462 non-null  object\n",
            " 3   Route            10462 non-null  object\n",
            " 4   Duration         10462 non-null  int64 \n",
            " 5   Total_Stops      10462 non-null  object\n",
            " 6   Additional_Info  10462 non-null  object\n",
            " 7   Price            10462 non-null  int64 \n",
            " 8   Journey_Day      10462 non-null  int32 \n",
            " 9   Journey_Month    10462 non-null  int32 \n",
            " 10  Journey_DOW      10462 non-null  int32 \n",
            " 11  Dep_Hour         10462 non-null  int32 \n",
            " 12  Dep_Minute       10462 non-null  int32 \n",
            " 13  Arrival_Hour     10462 non-null  int32 \n",
            " 14  Arrival_Minute   10462 non-null  int32 \n",
            "dtypes: int32(7), int64(2), object(6)\n",
            "memory usage: 1021.7+ KB\n"
          ]
        }
      ],
      "source": [
        "df.info()"
      ]
    },
    {
      "cell_type": "code",
      "execution_count": 32,
      "metadata": {
        "colab": {
          "base_uri": "https://localhost:8080/",
          "height": 272
        },
        "id": "xrVmGMiYnBsX",
        "outputId": "c6dfccb1-beae-4b4e-a9d4-8773200c65f9"
      },
      "outputs": [
        {
          "data": {
            "text/plain": [
              "Total_Stops\n",
              "1 stop      5625\n",
              "non-stop    3475\n",
              "2 stops     1318\n",
              "3 stops       43\n",
              "4 stops        1\n",
              "Name: count, dtype: int64"
            ]
          },
          "execution_count": 32,
          "metadata": {},
          "output_type": "execute_result"
        }
      ],
      "source": [
        "df.Total_Stops.value_counts()\n"
      ]
    },
    {
      "cell_type": "code",
      "execution_count": 33,
      "metadata": {
        "colab": {
          "base_uri": "https://localhost:8080/"
        },
        "id": "o9Ej67DZnbrV",
        "outputId": "ca832d90-bf36-4df4-f844-f3ed053d7f63"
      },
      "outputs": [
        {
          "name": "stderr",
          "output_type": "stream",
          "text": [
            "C:\\Users\\LOQ\\AppData\\Local\\Temp\\ipykernel_31024\\3074622131.py:1: FutureWarning: Downcasting behavior in `replace` is deprecated and will be removed in a future version. To retain the old behavior, explicitly call `result.infer_objects(copy=False)`. To opt-in to the future behavior, set `pd.set_option('future.no_silent_downcasting', True)`\n",
            "  df[\"Total_Stops\"] = df[\"Total_Stops\"].replace({\"non-stop\" :0, \"1 stop\" : 1,\"2 stops\" : 2,\"3 stops\" : 3,\"4 stops\" : 4})\n"
          ]
        }
      ],
      "source": [
        "df[\"Total_Stops\"] = df[\"Total_Stops\"].replace({\"non-stop\" :0, \"1 stop\" : 1,\"2 stops\" : 2,\"3 stops\" : 3,\"4 stops\" : 4})\n"
      ]
    },
    {
      "cell_type": "code",
      "execution_count": 34,
      "metadata": {
        "colab": {
          "base_uri": "https://localhost:8080/",
          "height": 608
        },
        "id": "TT1ltyXmn-4M",
        "outputId": "888a1e98-ab2b-4988-a23d-b46c0bf82daa"
      },
      "outputs": [
        {
          "data": {
            "text/html": [
              "<div>\n",
              "<style scoped>\n",
              "    .dataframe tbody tr th:only-of-type {\n",
              "        vertical-align: middle;\n",
              "    }\n",
              "\n",
              "    .dataframe tbody tr th {\n",
              "        vertical-align: top;\n",
              "    }\n",
              "\n",
              "    .dataframe thead th {\n",
              "        text-align: right;\n",
              "    }\n",
              "</style>\n",
              "<table border=\"1\" class=\"dataframe\">\n",
              "  <thead>\n",
              "    <tr style=\"text-align: right;\">\n",
              "      <th></th>\n",
              "      <th>Airline</th>\n",
              "      <th>Source</th>\n",
              "      <th>Destination</th>\n",
              "      <th>Route</th>\n",
              "      <th>Duration</th>\n",
              "      <th>Total_Stops</th>\n",
              "      <th>Additional_Info</th>\n",
              "      <th>Price</th>\n",
              "      <th>Journey_Day</th>\n",
              "      <th>Journey_Month</th>\n",
              "      <th>Journey_DOW</th>\n",
              "      <th>Dep_Hour</th>\n",
              "      <th>Dep_Minute</th>\n",
              "      <th>Arrival_Hour</th>\n",
              "      <th>Arrival_Minute</th>\n",
              "    </tr>\n",
              "  </thead>\n",
              "  <tbody>\n",
              "    <tr>\n",
              "      <th>0</th>\n",
              "      <td>IndiGo</td>\n",
              "      <td>Banglore</td>\n",
              "      <td>New Delhi</td>\n",
              "      <td>BLR → DEL</td>\n",
              "      <td>170</td>\n",
              "      <td>0</td>\n",
              "      <td>No info</td>\n",
              "      <td>3897</td>\n",
              "      <td>24</td>\n",
              "      <td>3</td>\n",
              "      <td>6</td>\n",
              "      <td>22</td>\n",
              "      <td>20</td>\n",
              "      <td>1</td>\n",
              "      <td>10</td>\n",
              "    </tr>\n",
              "    <tr>\n",
              "      <th>1</th>\n",
              "      <td>Air India</td>\n",
              "      <td>Kolkata</td>\n",
              "      <td>Banglore</td>\n",
              "      <td>CCU → IXR → BBI → BLR</td>\n",
              "      <td>445</td>\n",
              "      <td>2</td>\n",
              "      <td>No info</td>\n",
              "      <td>7662</td>\n",
              "      <td>1</td>\n",
              "      <td>5</td>\n",
              "      <td>2</td>\n",
              "      <td>5</td>\n",
              "      <td>50</td>\n",
              "      <td>13</td>\n",
              "      <td>15</td>\n",
              "    </tr>\n",
              "    <tr>\n",
              "      <th>2</th>\n",
              "      <td>Jet Airways</td>\n",
              "      <td>Delhi</td>\n",
              "      <td>Cochin</td>\n",
              "      <td>DEL → LKO → BOM → COK</td>\n",
              "      <td>1140</td>\n",
              "      <td>2</td>\n",
              "      <td>No info</td>\n",
              "      <td>13882</td>\n",
              "      <td>9</td>\n",
              "      <td>6</td>\n",
              "      <td>6</td>\n",
              "      <td>9</td>\n",
              "      <td>25</td>\n",
              "      <td>4</td>\n",
              "      <td>25</td>\n",
              "    </tr>\n",
              "    <tr>\n",
              "      <th>3</th>\n",
              "      <td>IndiGo</td>\n",
              "      <td>Kolkata</td>\n",
              "      <td>Banglore</td>\n",
              "      <td>CCU → NAG → BLR</td>\n",
              "      <td>325</td>\n",
              "      <td>1</td>\n",
              "      <td>No info</td>\n",
              "      <td>6218</td>\n",
              "      <td>12</td>\n",
              "      <td>5</td>\n",
              "      <td>6</td>\n",
              "      <td>18</td>\n",
              "      <td>5</td>\n",
              "      <td>23</td>\n",
              "      <td>30</td>\n",
              "    </tr>\n",
              "    <tr>\n",
              "      <th>4</th>\n",
              "      <td>IndiGo</td>\n",
              "      <td>Banglore</td>\n",
              "      <td>New Delhi</td>\n",
              "      <td>BLR → NAG → DEL</td>\n",
              "      <td>285</td>\n",
              "      <td>1</td>\n",
              "      <td>No info</td>\n",
              "      <td>13302</td>\n",
              "      <td>1</td>\n",
              "      <td>3</td>\n",
              "      <td>4</td>\n",
              "      <td>16</td>\n",
              "      <td>50</td>\n",
              "      <td>21</td>\n",
              "      <td>35</td>\n",
              "    </tr>\n",
              "  </tbody>\n",
              "</table>\n",
              "</div>"
            ],
            "text/plain": [
              "       Airline    Source Destination                  Route  Duration  \\\n",
              "0       IndiGo  Banglore   New Delhi              BLR → DEL       170   \n",
              "1    Air India   Kolkata    Banglore  CCU → IXR → BBI → BLR       445   \n",
              "2  Jet Airways     Delhi      Cochin  DEL → LKO → BOM → COK      1140   \n",
              "3       IndiGo   Kolkata    Banglore        CCU → NAG → BLR       325   \n",
              "4       IndiGo  Banglore   New Delhi        BLR → NAG → DEL       285   \n",
              "\n",
              "   Total_Stops Additional_Info  Price  Journey_Day  Journey_Month  \\\n",
              "0            0         No info   3897           24              3   \n",
              "1            2         No info   7662            1              5   \n",
              "2            2         No info  13882            9              6   \n",
              "3            1         No info   6218           12              5   \n",
              "4            1         No info  13302            1              3   \n",
              "\n",
              "   Journey_DOW  Dep_Hour  Dep_Minute  Arrival_Hour  Arrival_Minute  \n",
              "0            6        22          20             1              10  \n",
              "1            2         5          50            13              15  \n",
              "2            6         9          25             4              25  \n",
              "3            6        18           5            23              30  \n",
              "4            4        16          50            21              35  "
            ]
          },
          "execution_count": 34,
          "metadata": {},
          "output_type": "execute_result"
        }
      ],
      "source": [
        "df.head()"
      ]
    },
    {
      "cell_type": "code",
      "execution_count": 35,
      "metadata": {
        "colab": {
          "base_uri": "https://localhost:8080/",
          "height": 429
        },
        "id": "es2lKU5MoAVq",
        "outputId": "03130b2b-6089-4928-fbd4-6114b5d31550"
      },
      "outputs": [
        {
          "data": {
            "text/plain": [
              "Additional_Info\n",
              "No info                         8182\n",
              "In-flight meal not included     1926\n",
              "No check-in baggage included     318\n",
              "1 Long layover                    19\n",
              "Change airports                    7\n",
              "Business class                     4\n",
              "No Info                            3\n",
              "1 Short layover                    1\n",
              "Red-eye flight                     1\n",
              "2 Long layover                     1\n",
              "Name: count, dtype: int64"
            ]
          },
          "execution_count": 35,
          "metadata": {},
          "output_type": "execute_result"
        }
      ],
      "source": [
        "df['Additional_Info'].value_counts()"
      ]
    },
    {
      "cell_type": "code",
      "execution_count": 36,
      "metadata": {
        "id": "MpW21mIHoRhX"
      },
      "outputs": [],
      "source": [
        "df.drop(\"Additional_Info\",axis=1,inplace=True)"
      ]
    },
    {
      "cell_type": "code",
      "execution_count": 37,
      "metadata": {
        "colab": {
          "base_uri": "https://localhost:8080/",
          "height": 491
        },
        "id": "LXowWHDsoZ1r",
        "outputId": "3fdf1a51-d5af-41da-d516-372c77adfb10"
      },
      "outputs": [
        {
          "data": {
            "text/plain": [
              "Airline\n",
              "Jet Airways                          3700\n",
              "IndiGo                               2043\n",
              "Air India                            1694\n",
              "Multiple carriers                    1196\n",
              "SpiceJet                              815\n",
              "Vistara                               478\n",
              "Air Asia                              319\n",
              "GoAir                                 194\n",
              "Multiple carriers Premium economy      13\n",
              "Jet Airways Business                    6\n",
              "Vistara Premium economy                 3\n",
              "Trujet                                  1\n",
              "Name: count, dtype: int64"
            ]
          },
          "execution_count": 37,
          "metadata": {},
          "output_type": "execute_result"
        }
      ],
      "source": [
        "df[\"Airline\"].value_counts()"
      ]
    },
    {
      "cell_type": "code",
      "execution_count": 38,
      "metadata": {
        "id": "3aSQ7NgcoueN"
      },
      "outputs": [],
      "source": [
        "from sklearn.preprocessing import  LabelEncoder\n",
        "le = LabelEncoder()\n"
      ]
    },
    {
      "cell_type": "code",
      "execution_count": 39,
      "metadata": {
        "colab": {
          "base_uri": "https://localhost:8080/"
        },
        "id": "ZEtp5lxQpVMj",
        "outputId": "d7c517e2-aaef-4313-96f1-53abc822ffb7"
      },
      "outputs": [
        {
          "name": "stdout",
          "output_type": "stream",
          "text": [
            "Mapping: {'Air Asia': np.int64(0), 'Air India': np.int64(1), 'GoAir': np.int64(2), 'IndiGo': np.int64(3), 'Jet Airways': np.int64(4), 'Jet Airways Business': np.int64(5), 'Multiple carriers': np.int64(6), 'Multiple carriers Premium economy': np.int64(7), 'SpiceJet': np.int64(8), 'Trujet': np.int64(9), 'Vistara': np.int64(10), 'Vistara Premium economy': np.int64(11)}\n"
          ]
        }
      ],
      "source": [
        "df[\"Airline\"] = le.fit_transform(df[\"Airline\"])\n",
        "airline_mapping = dict(zip(le.classes_, le.transform(le.classes_)))\n",
        "print(\"Mapping:\", airline_mapping)\n"
      ]
    },
    {
      "cell_type": "code",
      "execution_count": 40,
      "metadata": {
        "colab": {
          "base_uri": "https://localhost:8080/",
          "height": 608
        },
        "id": "11MTiwe6pgB7",
        "outputId": "19298754-3ce3-42de-e3b7-717d57504c0f"
      },
      "outputs": [
        {
          "data": {
            "text/html": [
              "<div>\n",
              "<style scoped>\n",
              "    .dataframe tbody tr th:only-of-type {\n",
              "        vertical-align: middle;\n",
              "    }\n",
              "\n",
              "    .dataframe tbody tr th {\n",
              "        vertical-align: top;\n",
              "    }\n",
              "\n",
              "    .dataframe thead th {\n",
              "        text-align: right;\n",
              "    }\n",
              "</style>\n",
              "<table border=\"1\" class=\"dataframe\">\n",
              "  <thead>\n",
              "    <tr style=\"text-align: right;\">\n",
              "      <th></th>\n",
              "      <th>Airline</th>\n",
              "      <th>Source</th>\n",
              "      <th>Destination</th>\n",
              "      <th>Route</th>\n",
              "      <th>Duration</th>\n",
              "      <th>Total_Stops</th>\n",
              "      <th>Price</th>\n",
              "      <th>Journey_Day</th>\n",
              "      <th>Journey_Month</th>\n",
              "      <th>Journey_DOW</th>\n",
              "      <th>Dep_Hour</th>\n",
              "      <th>Dep_Minute</th>\n",
              "      <th>Arrival_Hour</th>\n",
              "      <th>Arrival_Minute</th>\n",
              "    </tr>\n",
              "  </thead>\n",
              "  <tbody>\n",
              "    <tr>\n",
              "      <th>0</th>\n",
              "      <td>3</td>\n",
              "      <td>Banglore</td>\n",
              "      <td>New Delhi</td>\n",
              "      <td>BLR → DEL</td>\n",
              "      <td>170</td>\n",
              "      <td>0</td>\n",
              "      <td>3897</td>\n",
              "      <td>24</td>\n",
              "      <td>3</td>\n",
              "      <td>6</td>\n",
              "      <td>22</td>\n",
              "      <td>20</td>\n",
              "      <td>1</td>\n",
              "      <td>10</td>\n",
              "    </tr>\n",
              "    <tr>\n",
              "      <th>1</th>\n",
              "      <td>1</td>\n",
              "      <td>Kolkata</td>\n",
              "      <td>Banglore</td>\n",
              "      <td>CCU → IXR → BBI → BLR</td>\n",
              "      <td>445</td>\n",
              "      <td>2</td>\n",
              "      <td>7662</td>\n",
              "      <td>1</td>\n",
              "      <td>5</td>\n",
              "      <td>2</td>\n",
              "      <td>5</td>\n",
              "      <td>50</td>\n",
              "      <td>13</td>\n",
              "      <td>15</td>\n",
              "    </tr>\n",
              "    <tr>\n",
              "      <th>2</th>\n",
              "      <td>4</td>\n",
              "      <td>Delhi</td>\n",
              "      <td>Cochin</td>\n",
              "      <td>DEL → LKO → BOM → COK</td>\n",
              "      <td>1140</td>\n",
              "      <td>2</td>\n",
              "      <td>13882</td>\n",
              "      <td>9</td>\n",
              "      <td>6</td>\n",
              "      <td>6</td>\n",
              "      <td>9</td>\n",
              "      <td>25</td>\n",
              "      <td>4</td>\n",
              "      <td>25</td>\n",
              "    </tr>\n",
              "    <tr>\n",
              "      <th>3</th>\n",
              "      <td>3</td>\n",
              "      <td>Kolkata</td>\n",
              "      <td>Banglore</td>\n",
              "      <td>CCU → NAG → BLR</td>\n",
              "      <td>325</td>\n",
              "      <td>1</td>\n",
              "      <td>6218</td>\n",
              "      <td>12</td>\n",
              "      <td>5</td>\n",
              "      <td>6</td>\n",
              "      <td>18</td>\n",
              "      <td>5</td>\n",
              "      <td>23</td>\n",
              "      <td>30</td>\n",
              "    </tr>\n",
              "    <tr>\n",
              "      <th>4</th>\n",
              "      <td>3</td>\n",
              "      <td>Banglore</td>\n",
              "      <td>New Delhi</td>\n",
              "      <td>BLR → NAG → DEL</td>\n",
              "      <td>285</td>\n",
              "      <td>1</td>\n",
              "      <td>13302</td>\n",
              "      <td>1</td>\n",
              "      <td>3</td>\n",
              "      <td>4</td>\n",
              "      <td>16</td>\n",
              "      <td>50</td>\n",
              "      <td>21</td>\n",
              "      <td>35</td>\n",
              "    </tr>\n",
              "  </tbody>\n",
              "</table>\n",
              "</div>"
            ],
            "text/plain": [
              "   Airline    Source Destination                  Route  Duration  \\\n",
              "0        3  Banglore   New Delhi              BLR → DEL       170   \n",
              "1        1   Kolkata    Banglore  CCU → IXR → BBI → BLR       445   \n",
              "2        4     Delhi      Cochin  DEL → LKO → BOM → COK      1140   \n",
              "3        3   Kolkata    Banglore        CCU → NAG → BLR       325   \n",
              "4        3  Banglore   New Delhi        BLR → NAG → DEL       285   \n",
              "\n",
              "   Total_Stops  Price  Journey_Day  Journey_Month  Journey_DOW  Dep_Hour  \\\n",
              "0            0   3897           24              3            6        22   \n",
              "1            2   7662            1              5            2         5   \n",
              "2            2  13882            9              6            6         9   \n",
              "3            1   6218           12              5            6        18   \n",
              "4            1  13302            1              3            4        16   \n",
              "\n",
              "   Dep_Minute  Arrival_Hour  Arrival_Minute  \n",
              "0          20             1              10  \n",
              "1          50            13              15  \n",
              "2          25             4              25  \n",
              "3           5            23              30  \n",
              "4          50            21              35  "
            ]
          },
          "execution_count": 40,
          "metadata": {},
          "output_type": "execute_result"
        }
      ],
      "source": [
        "df.head()"
      ]
    },
    {
      "cell_type": "code",
      "execution_count": 41,
      "metadata": {
        "colab": {
          "base_uri": "https://localhost:8080/",
          "height": 272
        },
        "id": "eeMsN1tApkGA",
        "outputId": "7b1786b5-0e10-4235-acc0-e727db77fea9"
      },
      "outputs": [
        {
          "data": {
            "text/plain": [
              "Source\n",
              "Delhi       4345\n",
              "Kolkata     2860\n",
              "Banglore    2179\n",
              "Mumbai       697\n",
              "Chennai      381\n",
              "Name: count, dtype: int64"
            ]
          },
          "execution_count": 41,
          "metadata": {},
          "output_type": "execute_result"
        }
      ],
      "source": [
        "df[\"Source\"].value_counts()"
      ]
    },
    {
      "cell_type": "code",
      "execution_count": 42,
      "metadata": {
        "colab": {
          "base_uri": "https://localhost:8080/",
          "height": 303
        },
        "id": "IWXI8M6Gqtl9",
        "outputId": "b6aee0c3-e5ce-4271-9481-2654b49ef209"
      },
      "outputs": [
        {
          "data": {
            "text/plain": [
              "Destination\n",
              "Cochin       4345\n",
              "Banglore     2860\n",
              "Delhi        1265\n",
              "New Delhi     914\n",
              "Hyderabad     697\n",
              "Kolkata       381\n",
              "Name: count, dtype: int64"
            ]
          },
          "execution_count": 42,
          "metadata": {},
          "output_type": "execute_result"
        }
      ],
      "source": [
        "df[\"Destination\"].value_counts()\n"
      ]
    },
    {
      "cell_type": "code",
      "execution_count": 43,
      "metadata": {
        "colab": {
          "base_uri": "https://localhost:8080/"
        },
        "id": "vgBfWHU6qv6z",
        "outputId": "f2a7fdec-b403-4c81-aa47-3c8fc7f58b3f"
      },
      "outputs": [
        {
          "name": "stdout",
          "output_type": "stream",
          "text": [
            "Mapping: {'Banglore': np.int64(0), 'Chennai': np.int64(1), 'Delhi': np.int64(2), 'Kolkata': np.int64(3), 'Mumbai': np.int64(4)}\n"
          ]
        }
      ],
      "source": [
        "df['Source'] = le.fit_transform(df['Source'])\n",
        "source_mapping = dict(zip(le.classes_, le.transform(le.classes_)))\n",
        "print(\"Mapping:\", source_mapping)\n",
        "\n"
      ]
    },
    {
      "cell_type": "code",
      "execution_count": 44,
      "metadata": {
        "colab": {
          "base_uri": "https://localhost:8080/"
        },
        "id": "m1LjaFKsrHiW",
        "outputId": "0727a9db-23df-4b38-ac9c-59a0a3915e9b"
      },
      "outputs": [
        {
          "name": "stdout",
          "output_type": "stream",
          "text": [
            "Mapping: {'Banglore': np.int64(0), 'Cochin': np.int64(1), 'Delhi': np.int64(2), 'Hyderabad': np.int64(3), 'Kolkata': np.int64(4), 'New Delhi': np.int64(5)}\n"
          ]
        }
      ],
      "source": [
        "df['Destination'] = le.fit_transform(df['Destination'])\n",
        "Destination_mapping = dict(zip(le.classes_, le.transform(le.classes_)))\n",
        "print(\"Mapping:\", Destination_mapping)"
      ]
    },
    {
      "cell_type": "code",
      "execution_count": 45,
      "metadata": {
        "id": "3uAbjtu2q3Qj"
      },
      "outputs": [],
      "source": [
        "df.drop(['Route'],axis=1,inplace=True)"
      ]
    },
    {
      "cell_type": "code",
      "execution_count": 46,
      "metadata": {
        "colab": {
          "base_uri": "https://localhost:8080/",
          "height": 226
        },
        "id": "Y7epjAvFtUZC",
        "outputId": "47fe01b0-0917-42ac-a49e-1a928c553275"
      },
      "outputs": [
        {
          "data": {
            "text/html": [
              "<div>\n",
              "<style scoped>\n",
              "    .dataframe tbody tr th:only-of-type {\n",
              "        vertical-align: middle;\n",
              "    }\n",
              "\n",
              "    .dataframe tbody tr th {\n",
              "        vertical-align: top;\n",
              "    }\n",
              "\n",
              "    .dataframe thead th {\n",
              "        text-align: right;\n",
              "    }\n",
              "</style>\n",
              "<table border=\"1\" class=\"dataframe\">\n",
              "  <thead>\n",
              "    <tr style=\"text-align: right;\">\n",
              "      <th></th>\n",
              "      <th>Airline</th>\n",
              "      <th>Source</th>\n",
              "      <th>Destination</th>\n",
              "      <th>Duration</th>\n",
              "      <th>Total_Stops</th>\n",
              "      <th>Price</th>\n",
              "      <th>Journey_Day</th>\n",
              "      <th>Journey_Month</th>\n",
              "      <th>Journey_DOW</th>\n",
              "      <th>Dep_Hour</th>\n",
              "      <th>Dep_Minute</th>\n",
              "      <th>Arrival_Hour</th>\n",
              "      <th>Arrival_Minute</th>\n",
              "    </tr>\n",
              "  </thead>\n",
              "  <tbody>\n",
              "    <tr>\n",
              "      <th>0</th>\n",
              "      <td>3</td>\n",
              "      <td>0</td>\n",
              "      <td>5</td>\n",
              "      <td>170</td>\n",
              "      <td>0</td>\n",
              "      <td>3897</td>\n",
              "      <td>24</td>\n",
              "      <td>3</td>\n",
              "      <td>6</td>\n",
              "      <td>22</td>\n",
              "      <td>20</td>\n",
              "      <td>1</td>\n",
              "      <td>10</td>\n",
              "    </tr>\n",
              "    <tr>\n",
              "      <th>1</th>\n",
              "      <td>1</td>\n",
              "      <td>3</td>\n",
              "      <td>0</td>\n",
              "      <td>445</td>\n",
              "      <td>2</td>\n",
              "      <td>7662</td>\n",
              "      <td>1</td>\n",
              "      <td>5</td>\n",
              "      <td>2</td>\n",
              "      <td>5</td>\n",
              "      <td>50</td>\n",
              "      <td>13</td>\n",
              "      <td>15</td>\n",
              "    </tr>\n",
              "    <tr>\n",
              "      <th>2</th>\n",
              "      <td>4</td>\n",
              "      <td>2</td>\n",
              "      <td>1</td>\n",
              "      <td>1140</td>\n",
              "      <td>2</td>\n",
              "      <td>13882</td>\n",
              "      <td>9</td>\n",
              "      <td>6</td>\n",
              "      <td>6</td>\n",
              "      <td>9</td>\n",
              "      <td>25</td>\n",
              "      <td>4</td>\n",
              "      <td>25</td>\n",
              "    </tr>\n",
              "    <tr>\n",
              "      <th>3</th>\n",
              "      <td>3</td>\n",
              "      <td>3</td>\n",
              "      <td>0</td>\n",
              "      <td>325</td>\n",
              "      <td>1</td>\n",
              "      <td>6218</td>\n",
              "      <td>12</td>\n",
              "      <td>5</td>\n",
              "      <td>6</td>\n",
              "      <td>18</td>\n",
              "      <td>5</td>\n",
              "      <td>23</td>\n",
              "      <td>30</td>\n",
              "    </tr>\n",
              "    <tr>\n",
              "      <th>4</th>\n",
              "      <td>3</td>\n",
              "      <td>0</td>\n",
              "      <td>5</td>\n",
              "      <td>285</td>\n",
              "      <td>1</td>\n",
              "      <td>13302</td>\n",
              "      <td>1</td>\n",
              "      <td>3</td>\n",
              "      <td>4</td>\n",
              "      <td>16</td>\n",
              "      <td>50</td>\n",
              "      <td>21</td>\n",
              "      <td>35</td>\n",
              "    </tr>\n",
              "  </tbody>\n",
              "</table>\n",
              "</div>"
            ],
            "text/plain": [
              "   Airline  Source  Destination  Duration  Total_Stops  Price  Journey_Day  \\\n",
              "0        3       0            5       170            0   3897           24   \n",
              "1        1       3            0       445            2   7662            1   \n",
              "2        4       2            1      1140            2  13882            9   \n",
              "3        3       3            0       325            1   6218           12   \n",
              "4        3       0            5       285            1  13302            1   \n",
              "\n",
              "   Journey_Month  Journey_DOW  Dep_Hour  Dep_Minute  Arrival_Hour  \\\n",
              "0              3            6        22          20             1   \n",
              "1              5            2         5          50            13   \n",
              "2              6            6         9          25             4   \n",
              "3              5            6        18           5            23   \n",
              "4              3            4        16          50            21   \n",
              "\n",
              "   Arrival_Minute  \n",
              "0              10  \n",
              "1              15  \n",
              "2              25  \n",
              "3              30  \n",
              "4              35  "
            ]
          },
          "execution_count": 46,
          "metadata": {},
          "output_type": "execute_result"
        }
      ],
      "source": [
        "df.head()"
      ]
    },
    {
      "cell_type": "markdown",
      "metadata": {},
      "source": [
        "<h2 style=\"font-family: Poppins, sans-serif; font-size: 2rem; font-weight:600; color:rgba(150, 255, 255, 0.6); text-shadow: 0 0 6px rgba(56,189,248,0.8), 0 0 12px rgba(56,189,248,0.6);\">\n",
        " EDA\n",
        "</h2>"
      ]
    },
    {
      "cell_type": "markdown",
      "metadata": {},
      "source": [
        "<!DOCTYPE html>\n",
        "<html lang=\"en\">\n",
        "<head>\n",
        "  <meta charset=\"UTF-8\">\n",
        "  <meta name=\"viewport\" content=\"width=device-width, initial-scale=1.0\">\n",
        "  <title>Neon Glow Animated Content Box</title>\n",
        "  <style>\n",
        "    * {\n",
        "      margin: 0;\n",
        "      padding: 0;\n",
        "      box-sizing: border-box;\n",
        "    }\n",
        "\n",
        "    body {\n",
        "      font-family: \"Poppins\", sans-serif;\n",
        "      background: #000000;\n",
        "    }\n",
        "\n",
        "    .content-box {\n",
        "      max-width: 800px;\n",
        "      margin: 40px auto;\n",
        "      background: linear-gradient(135deg, rgba(200, 255, 200, 0.6), rgba(150, 255, 255, 0.6));\n",
        "      color: white;\n",
        "      padding: 25px;\n",
        "      border: 2px solid rgba(255, 255, 255, 0.5);\n",
        "      border-radius: 12px;\n",
        "      backdrop-filter: blur(10px);\n",
        "      box-shadow: 0 0 25px rgba(150, 255, 255, 0.6);\n",
        "      animation: gradientShift 6s ease-in-out infinite;\n",
        "    }\n",
        "\n",
        "    @keyframes gradientShift {\n",
        "      0% { background: linear-gradient(135deg, rgba(200, 255, 200, 0.6), rgba(150, 255, 255, 0.6)); }\n",
        "      50% { background: linear-gradient(135deg, rgba(150, 255, 255, 0.6), rgba(200, 255, 200, 0.6)); }\n",
        "      100% { background: linear-gradient(135deg, rgba(200, 255, 200, 0.6), rgba(150, 255, 255, 0.6)); }\n",
        "    }\n",
        "\n",
        "    .content-box p {\n",
        "      font-size: 1.2rem;\n",
        "      line-height: 1.6;\n",
        "    }\n",
        "\n",
        "    @media (max-width: 768px) {\n",
        "      .content-box {\n",
        "        margin: 20px;\n",
        "        padding: 15px;\n",
        "      }\n",
        "    }\n",
        "  </style>\n",
        "</head>\n",
        "<body>\n",
        "  <div class=\"content-box\">\n",
        "    <p>\n",
        "      insights gained:\n",
        "      More than 1500 passenger's are travelling on Monday, Wednesday, Thrusday, and Saturday day of week.\n",
        "      Very less number of passenger's are travelling during Tuesday or Friday day of week.\n",
        "    </p>\n",
        "  </div>\n",
        "</body>\n",
        "</html>"
      ]
    },
    {
      "cell_type": "code",
      "execution_count": 47,
      "metadata": {
        "colab": {
          "base_uri": "https://localhost:8080/",
          "height": 440
        },
        "id": "j4NuvEIttknF",
        "outputId": "577e94e7-7cd5-44f4-f206-e2dc0fab86f8"
      },
      "outputs": [
        {
          "name": "stderr",
          "output_type": "stream",
          "text": [
            "C:\\Users\\LOQ\\AppData\\Local\\Temp\\ipykernel_31024\\1577056956.py:2: FutureWarning: \n",
            "\n",
            "Passing `palette` without assigning `hue` is deprecated and will be removed in v0.14.0. Assign the `x` variable to `hue` and set `legend=False` for the same effect.\n",
            "\n",
            "  sns.countplot(\n"
          ]
        },
        {
          "data": {
            "image/png": "[encoded data removed]",
            "text/plain": [
              "<Figure size 600x300 with 1 Axes>"
            ]
          },
          "metadata": {},
          "output_type": "display_data"
        }
      ],
      "source": [
        "plt.figure(figsize=(6,3))\n",
        "sns.countplot(\n",
        "    x=\"Journey_DOW\",\n",
        "    data=df,\n",
        "    palette=sns.color_palette(\"viridis\", df[\"Journey_DOW\"].nunique())  # unique colors\n",
        ")\n",
        "plt.title(\"Flights by Day of Week\")\n",
        "plt.xlabel(\"Day of Week\")\n",
        "plt.ylabel(\"Count\")\n",
        "plt.show()"
      ]
    },
    {
      "cell_type": "markdown",
      "metadata": {},
      "source": [
        "<!DOCTYPE html>\n",
        "<html lang=\"en\">\n",
        "<head>\n",
        "  <meta charset=\"UTF-8\">\n",
        "  <meta name=\"viewport\" content=\"width=device-width, initial-scale=1.0\">\n",
        "  <title>Neon Glow Animated Content Box</title>\n",
        "  <style>\n",
        "    * {\n",
        "      margin: 0;\n",
        "      padding: 0;\n",
        "      box-sizing: border-box;\n",
        "    }\n",
        "\n",
        "    body {\n",
        "      font-family: \"Poppins\", sans-serif;\n",
        "      background: #000000;\n",
        "    }\n",
        "\n",
        "    .content-box {\n",
        "      max-width: 800px;\n",
        "      margin: 40px auto;\n",
        "      background: linear-gradient(135deg, rgba(200, 255, 200, 0.6), rgba(150, 255, 255, 0.6));\n",
        "      color: white;\n",
        "      padding: 25px;\n",
        "      border: 2px solid rgba(255, 255, 255, 0.5);\n",
        "      border-radius: 12px;\n",
        "      backdrop-filter: blur(10px);\n",
        "      box-shadow: 0 0 25px rgba(150, 255, 255, 0.6);\n",
        "      animation: gradientShift 6s ease-in-out infinite;\n",
        "    }\n",
        "\n",
        "\n",
        "    @keyframes gradientShift {\n",
        "      0% { background: linear-gradient(135deg, rgba(200, 255, 200, 0.6), rgba(150, 255, 255, 0.6)); }\n",
        "      50% { background: linear-gradient(135deg, rgba(150, 255, 255, 0.6), rgba(200, 255, 200, 0.6)); }\n",
        "      100% { background: linear-gradient(135deg, rgba(200, 255, 200, 0.6), rgba(150, 255, 255, 0.6)); }\n",
        "    }\n",
        "\n",
        "    .content-box p {\n",
        "      font-size: 1.2rem;\n",
        "      line-height: 1.6;\n",
        "    }\n",
        "\n",
        "    @media (max-width: 768px) {\n",
        "      .content-box {\n",
        "        margin: 20px;\n",
        "        padding: 15px;\n",
        "      }\n",
        "    }\n",
        "  </style>\n",
        "</head>\n",
        "<body>\n",
        "  <div class=\"content-box\">\n",
        "    <p>\n",
        "       Insights of Month:\n",
        "      More than 3000 passenger's are travelling during May and June months.\n",
        "      Very less number of passneger's are travelling during April month as compared to other months\n",
        "    </p>\n",
        "  </div>\n",
        "</body>\n",
        "</html>"
      ]
    },
    {
      "cell_type": "code",
      "execution_count": 48,
      "metadata": {
        "colab": {
          "base_uri": "https://localhost:8080/",
          "height": 440
        },
        "id": "PmXIWHChupJt",
        "outputId": "4c4dc318-a6cd-4b2e-faaf-4e62bd7b462f"
      },
      "outputs": [
        {
          "name": "stderr",
          "output_type": "stream",
          "text": [
            "C:\\Users\\LOQ\\AppData\\Local\\Temp\\ipykernel_31024\\861633102.py:2: FutureWarning: \n",
            "\n",
            "Passing `palette` without assigning `hue` is deprecated and will be removed in v0.14.0. Assign the `x` variable to `hue` and set `legend=False` for the same effect.\n",
            "\n",
            "  sns.countplot(\n"
          ]
        },
        {
          "data": {
            "image/png": "[encoded data removed]",
            "text/plain": [
              "<Figure size 500x300 with 1 Axes>"
            ]
          },
          "metadata": {},
          "output_type": "display_data"
        }
      ],
      "source": [
        "plt.figure(figsize=(5,3))\n",
        "sns.countplot(\n",
        "    x=\"Journey_Month\",\n",
        "    data=df,\n",
        "    palette=sns.color_palette(\"tab20\", df[\"Journey_Month\"].nunique())  # unique colors\n",
        ")\n",
        "plt.title(\"Flights by Month\")\n",
        "plt.xlabel(\"Month\")\n",
        "plt.ylabel(\"Count\")\n",
        "plt.show()"
      ]
    },
    {
      "cell_type": "markdown",
      "metadata": {},
      "source": [
        "<!DOCTYPE html>\n",
        "<html lang=\"en\">\n",
        "<head>\n",
        "  <meta charset=\"UTF-8\">\n",
        "  <meta name=\"viewport\" content=\"width=device-width, initial-scale=1.0\">\n",
        "  <title>Neon Glow Animated Content Box</title>\n",
        "  <style>\n",
        "    * {\n",
        "      margin: 0;\n",
        "      padding: 0;\n",
        "      box-sizing: border-box;\n",
        "    }\n",
        "\n",
        "    body {\n",
        "      font-family: \"Poppins\", sans-serif;\n",
        "      background: #000000;\n",
        "    }\n",
        "\n",
        "    .content-box {\n",
        "      max-width: 800px;\n",
        "      margin: 40px auto;\n",
        "      background: linear-gradient(135deg, rgba(200, 255, 200, 0.6), rgba(150, 255, 255, 0.6));\n",
        "      color: white;\n",
        "      padding: 25px;\n",
        "      border: 2px solid rgba(255, 255, 255, 0.5);\n",
        "      border-radius: 12px;\n",
        "      backdrop-filter: blur(10px);\n",
        "      box-shadow: 0 0 25px rgba(150, 255, 255, 0.6);\n",
        "      animation: gradientShift 6s ease-in-out infinite;\n",
        "    }\n",
        "     @keyframes gradientShift {\n",
        "      0% { background: linear-gradient(135deg, rgba(200, 255, 200, 0.6), rgba(150, 255, 255, 0.6)); }\n",
        "      50% { background: linear-gradient(135deg, rgba(150, 255, 255, 0.6), rgba(200, 255, 200, 0.6)); }\n",
        "      100% { background: linear-gradient(135deg, rgba(200, 255, 200, 0.6), rgba(150, 255, 255, 0.6)); }\n",
        "    }\n",
        "\n",
        "    .content-box p {\n",
        "      font-size: 1.2rem;\n",
        "      line-height: 1.6;\n",
        "    }\n",
        "\n",
        "    @media (max-width: 768px) {\n",
        "      .content-box {\n",
        "        margin: 20px;\n",
        "        padding: 15px;\n",
        "      }\n",
        "    }\n",
        "  </style>\n",
        "</head>\n",
        "<body>\n",
        "  <div class=\"content-box\">\n",
        "    <p>\n",
        "       Insights for Total stops:\n",
        "       0 Stop, 1 Stop has highest frequency than all the other stops. So ,we can say that most passenger are preferring 1 stop.\n",
        "       We can clearly see that 3 and 4 stops has very less frequency. So ,we can say that as the stops is increasing number of passenger is decreasing.\n",
        "</p>\n",
        "\n",
        "  </div>\n",
        "</body>\n",
        "</html>\n",
        "    "
      ]
    },
    {
      "cell_type": "code",
      "execution_count": 49,
      "metadata": {
        "colab": {
          "base_uri": "https://localhost:8080/",
          "height": 517
        },
        "id": "LzYdSRt-vNn2",
        "outputId": "a6d6b2c2-917d-490c-8575-9e341644b5ef"
      },
      "outputs": [
        {
          "name": "stderr",
          "output_type": "stream",
          "text": [
            "C:\\Users\\LOQ\\AppData\\Local\\Temp\\ipykernel_31024\\2038868722.py:2: FutureWarning: \n",
            "\n",
            "Passing `palette` without assigning `hue` is deprecated and will be removed in v0.14.0. Assign the `x` variable to `hue` and set `legend=False` for the same effect.\n",
            "\n",
            "  sns.countplot(\n"
          ]
        },
        {
          "data": {
            "image/png": "[encoded data removed]",
            "text/plain": [
              "<Figure size 600x400 with 1 Axes>"
            ]
          },
          "metadata": {},
          "output_type": "display_data"
        }
      ],
      "source": [
        "plt.figure(figsize=(6,4))\n",
        "sns.countplot(\n",
        "    x=\"Total_Stops\",\n",
        "    data=df,\n",
        "    palette=sns.color_palette(\"Set2\", df[\"Total_Stops\"].nunique())  # unique colors\n",
        ")\n",
        "plt.title(\"Flights by Total Stops\")\n",
        "plt.xlabel(\"Total Stops\")\n",
        "plt.ylabel(\"Count\")\n",
        "plt.show()"
      ]
    },
    {
      "cell_type": "markdown",
      "metadata": {},
      "source": [
        "<!DOCTYPE html>\n",
        "<html lang=\"en\">\n",
        "<head>\n",
        "  <meta charset=\"UTF-8\">\n",
        "  <meta name=\"viewport\" content=\"width=device-width, initial-scale=1.0\">\n",
        "  <title>Neon Glow Animated Content Box</title>\n",
        "  <style>\n",
        "    * {\n",
        "      margin: 0;\n",
        "      padding: 0;\n",
        "      box-sizing: border-box;\n",
        "    }\n",
        "\n",
        "    body {\n",
        "      font-family: \"Poppins\", sans-serif;\n",
        "      background: #000000;\n",
        "    }\n",
        "\n",
        "    .content-box {\n",
        "      max-width: 800px;\n",
        "      margin: 40px auto;\n",
        "      background: linear-gradient(135deg, rgba(200, 255, 200, 0.6), rgba(150, 255, 255, 0.6));\n",
        "      color: white;\n",
        "      padding: 25px;\n",
        "      border: 2px solid rgba(255, 255, 255, 0.5);\n",
        "      border-radius: 12px;\n",
        "      backdrop-filter: blur(10px);\n",
        "      box-shadow: 0 0 25px rgba(150, 255, 255, 0.6);\n",
        "      animation: gradientShift 6s ease-in-out infinite;\n",
        "    }\n",
        "     @keyframes gradientShift {\n",
        "      0% { background: linear-gradient(135deg, rgba(200, 255, 200, 0.6), rgba(150, 255, 255, 0.6)); }\n",
        "      50% { background: linear-gradient(135deg, rgba(150, 255, 255, 0.6), rgba(200, 255, 200, 0.6)); }\n",
        "      100% { background: linear-gradient(135deg, rgba(200, 255, 200, 0.6), rgba(150, 255, 255, 0.6)); }\n",
        "    }\n",
        "\n",
        "    .content-box p {\n",
        "      font-size: 1.2rem;\n",
        "      line-height: 1.6;\n",
        "    }\n",
        "\n",
        "    @media (max-width: 768px) {\n",
        "      .content-box {\n",
        "        margin: 20px;\n",
        "        padding: 15px;\n",
        "      }\n",
        "    }\n",
        "  </style>\n",
        "</head>\n",
        "<body>\n",
        "  <div class=\"content-box\">\n",
        "    <p>\n",
        "       Insights for Destination:\n",
        "       More than 4000 passenger has Cochin as their destination. Also, frequency for Cochin is highest compared to other Destination.\n",
        "       Very less passenger has Kolkata as their destination.\n",
        "</p>\n",
        "\n",
        "  </div>\n",
        "</body>\n",
        "</html>\n",
        "    "
      ]
    },
    {
      "cell_type": "code",
      "execution_count": 50,
      "metadata": {
        "colab": {
          "base_uri": "https://localhost:8080/",
          "height": 596
        },
        "id": "UNqHYUfEvNqe",
        "outputId": "5f7b95c5-04ed-488c-fa83-928bdd9391db"
      },
      "outputs": [
        {
          "name": "stderr",
          "output_type": "stream",
          "text": [
            "C:\\Users\\LOQ\\AppData\\Local\\Temp\\ipykernel_31024\\689938854.py:2: FutureWarning: \n",
            "\n",
            "Passing `palette` without assigning `hue` is deprecated and will be removed in v0.14.0. Assign the `x` variable to `hue` and set `legend=False` for the same effect.\n",
            "\n",
            "  sns.countplot(\n"
          ]
        },
        {
          "data": {
            "image/png": "[encoded data removed]",
            "text/plain": [
              "<Figure size 1000x500 with 1 Axes>"
            ]
          },
          "metadata": {},
          "output_type": "display_data"
        }
      ],
      "source": [
        "plt.figure(figsize=(10,5))\n",
        "sns.countplot(\n",
        "    x=\"Destination\",\n",
        "    data=df,\n",
        "    palette=sns.color_palette(\"husl\", df[\"Destination\"].nunique())  # unique color per destination\n",
        ")\n",
        "plt.title(\"Flights by Destination\")\n",
        "plt.xlabel(\"Destination\")\n",
        "plt.ylabel(\"Count\")\n",
        "plt.xticks(rotation=45)  # rotate x labels so they don't overlap\n",
        "plt.show()"
      ]
    },
    {
      "cell_type": "markdown",
      "metadata": {},
      "source": [
        "<!DOCTYPE html>\n",
        "<html lang=\"en\">\n",
        "<head>\n",
        "  <meta charset=\"UTF-8\">\n",
        "  <meta name=\"viewport\" content=\"width=device-width, initial-scale=1.0\">\n",
        "  <title>Neon Glow Animated Content Box</title>\n",
        "  <style>\n",
        "    * {\n",
        "      margin: 0;\n",
        "      padding: 0;\n",
        "      box-sizing: border-box;\n",
        "    }\n",
        "\n",
        "    body {\n",
        "      font-family: \"Poppins\", sans-serif;\n",
        "      background: #000000;\n",
        "    }\n",
        "\n",
        "    .content-box {\n",
        "      max-width: 800px;\n",
        "      margin: 40px auto;\n",
        "      background: linear-gradient(135deg, rgba(200, 255, 200, 0.6), rgba(150, 255, 255, 0.6));\n",
        "      color: white;\n",
        "      padding: 25px;\n",
        "      border: 2px solid rgba(255, 255, 255, 0.5);\n",
        "      border-radius: 12px;\n",
        "      backdrop-filter: blur(10px);\n",
        "      box-shadow: 0 0 25px rgba(150, 255, 255, 0.6);\n",
        "      animation: gradientShift 6s ease-in-out infinite;\n",
        "    }\n",
        "     @keyframes gradientShift {\n",
        "      0% { background: linear-gradient(135deg, rgba(200, 255, 200, 0.6), rgba(150, 255, 255, 0.6)); }\n",
        "      50% { background: linear-gradient(135deg, rgba(150, 255, 255, 0.6), rgba(200, 255, 200, 0.6)); }\n",
        "      100% { background: linear-gradient(135deg, rgba(200, 255, 200, 0.6), rgba(150, 255, 255, 0.6)); }\n",
        "    }\n",
        "\n",
        "    .content-box p {\n",
        "      font-size: 1.2rem;\n",
        "      line-height: 1.6;\n",
        "    }\n",
        "\n",
        "    @media (max-width: 768px) {\n",
        "      .content-box {\n",
        "        margin: 20px;\n",
        "        padding: 15px;\n",
        "      }\n",
        "    }\n",
        "  </style>\n",
        "</head>\n",
        "<body>\n",
        "  <div class=\"content-box\">\n",
        "    <p>\n",
        "       Insight of Price:\n",
        "       Mostly it is right skewed.\n",
        "Average Price for a flight is aorund 9,000 rupees\n",
        "Very few passenger are paying more than 20,000 rupees\n",
        "The majority of passengers pay relatively low to mid prices.\n",
        "\n",
        "A small minority pay very high prices (20,000–80,000 rupees), but these are rare outliers.\n",
        "</p>\n",
        "\n",
        "  </div>\n",
        "</body>\n",
        "</html>"
      ]
    },
    {
      "cell_type": "code",
      "execution_count": 51,
      "metadata": {
        "colab": {
          "base_uri": "https://localhost:8080/",
          "height": 466
        },
        "id": "OfWBsG1uvNtE",
        "outputId": "65bb559d-69ad-4615-8dca-b83ca66a5d39"
      },
      "outputs": [
        {
          "data": {
            "text/plain": [
              "<Axes: xlabel='Price', ylabel='Count'>"
            ]
          },
          "execution_count": 51,
          "metadata": {},
          "output_type": "execute_result"
        },
        {
          "data": {
            "image/png": "[encoded data removed]",
            "text/plain": [
              "<Figure size 640x480 with 1 Axes>"
            ]
          },
          "metadata": {},
          "output_type": "display_data"
        }
      ],
      "source": [
        "sns.histplot(data=df, x=\"Price\",bins=50,color='blue')"
      ]
    },
    {
      "cell_type": "markdown",
      "metadata": {},
      "source": [
        "<!DOCTYPE html>\n",
        "<html lang=\"en\">\n",
        "<head>\n",
        "  <meta charset=\"UTF-8\">\n",
        "  <meta name=\"viewport\" content=\"width=device-width, initial-scale=1.0\">\n",
        "  <title>Neon Glow Animated Content Box</title>\n",
        "  <style>\n",
        "    * {\n",
        "      margin: 0;\n",
        "      padding: 0;\n",
        "      box-sizing: border-box;\n",
        "    }\n",
        "\n",
        "    body {\n",
        "      font-family: \"Poppins\", sans-serif;\n",
        "      background: #000000;\n",
        "    }\n",
        "\n",
        "    .content-box {\n",
        "      max-width: 800px;\n",
        "      margin: 40px auto;\n",
        "      background: linear-gradient(135deg, rgba(200, 255, 200, 0.6), rgba(150, 255, 255, 0.6));\n",
        "      color: white;\n",
        "      padding: 25px;\n",
        "      border: 2px solid rgba(255, 255, 255, 0.5);\n",
        "      border-radius: 12px;\n",
        "      backdrop-filter: blur(10px);\n",
        "      box-shadow: 0 0 25px rgba(150, 255, 255, 0.6);\n",
        "      animation: gradientShift 6s ease-in-out infinite;\n",
        "    }\n",
        "     @keyframes gradientShift {\n",
        "      0% { background: linear-gradient(135deg, rgba(200, 255, 200, 0.6), rgba(150, 255, 255, 0.6)); }\n",
        "      50% { background: linear-gradient(135deg, rgba(150, 255, 255, 0.6), rgba(200, 255, 200, 0.6)); }\n",
        "      100% { background: linear-gradient(135deg, rgba(200, 255, 200, 0.6), rgba(150, 255, 255, 0.6)); }\n",
        "    }\n",
        "\n",
        "    .content-box p {\n",
        "      font-size: 1.2rem;\n",
        "      line-height: 1.6;\n",
        "    }\n",
        "\n",
        "    @media (max-width: 768px) {\n",
        "      .content-box {\n",
        "        margin: 20px;\n",
        "        padding: 15px;\n",
        "      }\n",
        "    }\n",
        "  </style>\n",
        "</head>\n",
        "<body>\n",
        "  <div class=\"content-box\">\n",
        "    <p>\n",
        "       Insights for Airline:\n",
        "       Jet Airways Business is costliest compared to all the other airline ranging from 50,000 to 60,000 rupees.\n",
        "       Highest price for a airlins is also Jet Airways Business having Price of around 80,000.\n",
        "       Less number of passenger are travelling in Trujet.\n",
        "       Most of the Airline has Price between 5,000 to 15,000 rupees.\n",
        "</p>\n",
        "\n",
        "  </div>\n",
        "</body>\n",
        "</html>"
      ]
    },
    {
      "cell_type": "code",
      "execution_count": 52,
      "metadata": {
        "colab": {
          "base_uri": "https://localhost:8080/",
          "height": 513
        },
        "id": "cO9I0eNtxpCk",
        "outputId": "ab3f51e3-3a2d-426f-afc7-0ebdd7785860"
      },
      "outputs": [
        {
          "name": "stderr",
          "output_type": "stream",
          "text": [
            "C:\\Users\\LOQ\\AppData\\Local\\Temp\\ipykernel_31024\\685216910.py:2: FutureWarning: \n",
            "\n",
            "Passing `palette` without assigning `hue` is deprecated and will be removed in v0.14.0. Assign the `x` variable to `hue` and set `legend=False` for the same effect.\n",
            "\n",
            "  sns.catplot(\n"
          ]
        },
        {
          "data": {
            "text/plain": [
              "<Figure size 1200x600 with 0 Axes>"
            ]
          },
          "metadata": {},
          "output_type": "display_data"
        },
        {
          "data": {
            "image/png": "[encoded data removed]",
            "text/plain": [
              "<Figure size 1800x600 with 1 Axes>"
            ]
          },
          "metadata": {},
          "output_type": "display_data"
        }
      ],
      "source": [
        "plt.figure(figsize=(12,6))\n",
        "sns.catplot(\n",
        "    y=\"Price\",\n",
        "    x=\"Airline\",\n",
        "    data=df.sort_values(\"Price\", ascending=False),\n",
        "    kind=\"boxen\",\n",
        "    height=6,\n",
        "    aspect=3,\n",
        "    palette=\"tab20\"   \n",
        ")\n",
        "plt.xticks(rotation=45)\n",
        "plt.show()"
      ]
    },
    {
      "cell_type": "markdown",
      "metadata": {},
      "source": [
        "<!DOCTYPE html>\n",
        "<html lang=\"en\">\n",
        "<head>\n",
        "  <meta charset=\"UTF-8\">\n",
        "  <meta name=\"viewport\" content=\"width=device-width, initial-scale=1.0\">\n",
        "  <title>Neon Glow Animated Content Box</title>\n",
        "  <style>\n",
        "    * {\n",
        "      margin: 0;\n",
        "      padding: 0;\n",
        "      box-sizing: border-box;\n",
        "    }\n",
        "\n",
        "    body {\n",
        "      font-family: \"Poppins\", sans-serif;\n",
        "      background: #000000;\n",
        "    }\n",
        "\n",
        "    .content-box {\n",
        "      max-width: 800px;\n",
        "      margin: 40px auto;\n",
        "      background: linear-gradient(135deg, rgba(200, 255, 200, 0.6), rgba(150, 255, 255, 0.6));\n",
        "      color: white;\n",
        "      padding: 25px;\n",
        "      border: 2px solid rgba(255, 255, 255, 0.5);\n",
        "      border-radius: 12px;\n",
        "      backdrop-filter: blur(10px);\n",
        "      box-shadow: 0 0 25px rgba(150, 255, 255, 0.6);\n",
        "      animation: gradientShift 6s ease-in-out infinite;\n",
        "    }\n",
        "     @keyframes gradientShift {\n",
        "      0% { background: linear-gradient(135deg, rgba(200, 255, 200, 0.6), rgba(150, 255, 255, 0.6)); }\n",
        "      50% { background: linear-gradient(135deg, rgba(150, 255, 255, 0.6), rgba(200, 255, 200, 0.6)); }\n",
        "      100% { background: linear-gradient(135deg, rgba(200, 255, 200, 0.6), rgba(150, 255, 255, 0.6)); }\n",
        "    }\n",
        "\n",
        "    .content-box p {\n",
        "      font-size: 1.2rem;\n",
        "      line-height: 1.6;\n",
        "    }\n",
        "\n",
        "    @media (max-width: 768px) {\n",
        "      .content-box {\n",
        "        margin: 20px;\n",
        "        padding: 15px;\n",
        "      }\n",
        "    }\n",
        "  </style>\n",
        "</head>\n",
        "<body>\n",
        "  <div class=\"content-box\">\n",
        "    <p>\n",
        "      Insights for Price by Source:\n",
        "       People who are taking flight from Banglore are paying more than other source's.\n",
        "      Some passenger are paying around 80,000 rupees from Banglore .\n",
        "</p>\n",
        "\n",
        "  </div>\n",
        "</body>\n",
        "</html>"
      ]
    },
    {
      "cell_type": "code",
      "execution_count": 53,
      "metadata": {
        "colab": {
          "base_uri": "https://localhost:8080/",
          "height": 489
        },
        "id": "u0-8PugSxpE3",
        "outputId": "403b3f31-641a-4b82-efa6-ce7ca4069cc2"
      },
      "outputs": [
        {
          "name": "stderr",
          "output_type": "stream",
          "text": [
            "C:\\Users\\LOQ\\AppData\\Local\\Temp\\ipykernel_31024\\2337114997.py:1: FutureWarning: \n",
            "\n",
            "Passing `palette` without assigning `hue` is deprecated and will be removed in v0.14.0. Assign the `x` variable to `hue` and set `legend=False` for the same effect.\n",
            "\n",
            "  sns.catplot(\n"
          ]
        },
        {
          "data": {
            "image/png": "[encoded data removed]",
            "text/plain": [
              "<Figure size 1200x400 with 1 Axes>"
            ]
          },
          "metadata": {},
          "output_type": "display_data"
        }
      ],
      "source": [
        "sns.catplot(\n",
        "    y=\"Price\",\n",
        "    x=\"Source\",\n",
        "    data=df.sort_values(\"Price\", ascending=False),\n",
        "    kind=\"boxen\",\n",
        "    height=4,\n",
        "    aspect=3,\n",
        "    palette=\"Set2\"   \n",
        ")\n",
        "plt.show()"
      ]
    },
    {
      "cell_type": "markdown",
      "metadata": {},
      "source": [
        "<!DOCTYPE html>\n",
        "<html lang=\"en\">\n",
        "<head>\n",
        "  <meta charset=\"UTF-8\">\n",
        "  <meta name=\"viewport\" content=\"width=device-width, initial-scale=1.0\">\n",
        "  <title>Neon Glow Animated Content Box</title>\n",
        "  <style>\n",
        "    * {\n",
        "      margin: 0;\n",
        "      padding: 0;\n",
        "      box-sizing: border-box;\n",
        "    }\n",
        "\n",
        "    body {\n",
        "      font-family: \"Poppins\", sans-serif;\n",
        "      background: #000000;\n",
        "    }\n",
        "\n",
        "    .content-box {\n",
        "      max-width: 800px;\n",
        "      margin: 40px auto;\n",
        "      background: linear-gradient(135deg, rgba(200, 255, 200, 0.6), rgba(150, 255, 255, 0.6));\n",
        "      color: white;\n",
        "      padding: 25px;\n",
        "      border: 2px solid rgba(255, 255, 255, 0.5);\n",
        "      border-radius: 12px;\n",
        "      backdrop-filter: blur(10px);\n",
        "      box-shadow: 0 0 25px rgba(150, 255, 255, 0.6);\n",
        "      animation: gradientShift 6s ease-in-out infinite;\n",
        "    }\n",
        "     @keyframes gradientShift {\n",
        "      0% { background: linear-gradient(135deg, rgba(200, 255, 200, 0.6), rgba(150, 255, 255, 0.6)); }\n",
        "      50% { background: linear-gradient(135deg, rgba(150, 255, 255, 0.6), rgba(200, 255, 200, 0.6)); }\n",
        "      100% { background: linear-gradient(135deg, rgba(200, 255, 200, 0.6), rgba(150, 255, 255, 0.6)); }\n",
        "    }\n",
        "\n",
        "    .content-box p {\n",
        "      font-size: 1.2rem;\n",
        "      line-height: 1.6;\n",
        "    }\n",
        "\n",
        "    @media (max-width: 768px) {\n",
        "      .content-box {\n",
        "        margin: 20px;\n",
        "        padding: 15px;\n",
        "      }\n",
        "    }\n",
        "  </style>\n",
        "</head>\n",
        "<body>\n",
        "  <div class=\"content-box\">\n",
        "    <p>\n",
        "       Insights for Price by Destination:\n",
        "       Passenger's are paying more for travelling to Delhi as compared to other Destination\n",
        "</p>\n",
        "\n",
        "  </div>\n",
        "</body>\n",
        "</html>"
      ]
    },
    {
      "cell_type": "code",
      "execution_count": 54,
      "metadata": {
        "colab": {
          "base_uri": "https://localhost:8080/",
          "height": 489
        },
        "id": "0Zr5RvaRxpIh",
        "outputId": "a802edf5-a469-49aa-dce4-2e9c3cb5a823"
      },
      "outputs": [
        {
          "name": "stderr",
          "output_type": "stream",
          "text": [
            "C:\\Users\\LOQ\\AppData\\Local\\Temp\\ipykernel_31024\\3884439315.py:3: FutureWarning: \n",
            "\n",
            "Passing `palette` without assigning `hue` is deprecated and will be removed in v0.14.0. Assign the `x` variable to `hue` and set `legend=False` for the same effect.\n",
            "\n",
            "  sns.catplot(\n"
          ]
        },
        {
          "data": {
            "image/png": "[encoded data removed]",
            "text/plain": [
              "<Figure size 1200x400 with 1 Axes>"
            ]
          },
          "metadata": {},
          "output_type": "display_data"
        }
      ],
      "source": [
        "palette = sns.color_palette(\"husl\", len(df[\"Destination\"].unique()))\n",
        "\n",
        "sns.catplot(\n",
        "    y=\"Price\",\n",
        "    x=\"Destination\",\n",
        "    data=df.sort_values(\"Price\", ascending=False),\n",
        "    kind=\"boxen\",\n",
        "    height=4,\n",
        "    aspect=3,\n",
        "    palette=palette   \n",
        ")\n",
        "plt.show()"
      ]
    },
    {
      "cell_type": "code",
      "execution_count": 55,
      "metadata": {
        "colab": {
          "base_uri": "https://localhost:8080/",
          "height": 693
        },
        "id": "45GCWJpovNw3",
        "outputId": "bb5348d7-c453-4ec5-c21f-9f757283ca34"
      },
      "outputs": [
        {
          "data": {
            "text/plain": [
              "<Axes: >"
            ]
          },
          "execution_count": 55,
          "metadata": {},
          "output_type": "execute_result"
        },
        {
          "data": {
            "image/png": "[encoded data removed]",
            "text/plain": [
              "<Figure size 2000x1000 with 2 Axes>"
            ]
          },
          "metadata": {},
          "output_type": "display_data"
        }
      ],
      "source": [
        "columns = [col for col in df.columns if df[col].nunique()>3]\n",
        "plt.figure(figsize=(20,10))\n",
        "sns.heatmap(df[columns].corr(),annot=True,cmap=\"inferno\")"
      ]
    },
    {
      "cell_type": "code",
      "execution_count": 56,
      "metadata": {
        "id": "kLMGb91BzM0w"
      },
      "outputs": [],
      "source": [
        "X = df.drop(\"Price\",axis=1)\n",
        "y = df[\"Price\"]\n",
        "from sklearn.model_selection import train_test_split,GridSearchCV\n",
        "X_train, X_test, y_train, y_test = train_test_split(X, y, test_size=0.2, random_state=42)\n"
      ]
    },
    {
      "cell_type": "code",
      "execution_count": 57,
      "metadata": {
        "id": "-SG2un2e0Mz4"
      },
      "outputs": [],
      "source": [
        "from sklearn.pipeline import Pipeline\n",
        "from sklearn.metrics import r2_score\n",
        "scaler = StandardScaler()\n",
        "param_grid = {\n",
        "    \"Linear Regression\": {\n",
        "        \"pipeline\": Pipeline([\n",
        "            (\"scaler\", scaler),\n",
        "            (\"model\", LinearRegression())\n",
        "        ]),\n",
        "        \"param\": {}\n",
        "    },\n",
        "    \"Decision Tree\": {\n",
        "        \"pipeline\": Pipeline([\n",
        "            (\"scaler\", \"passthrough\"),\n",
        "            (\"model\", DecisionTreeRegressor())\n",
        "        ]),\n",
        "        \"param\": {\n",
        "            \"model__criterion\": [\"squared_error\", \"friedman_mse\", \"absolute_error\"],\n",
        "            \"model__max_depth\": [None, 3, 5, 7, 10]\n",
        "        }\n",
        "    },\n",
        "    \"Random Forest\": {\n",
        "        \"pipeline\": Pipeline([\n",
        "            (\"scaler\", \"passthrough\"),\n",
        "            (\"model\", RandomForestRegressor())\n",
        "        ]),\n",
        "        \"param\": {\n",
        "            \"model__criterion\": [\"squared_error\", \"absolute_error\"],\n",
        "            \"model__max_depth\": [None, 3, 5, 7, 10],\n",
        "            \"model__max_features\": [\"sqrt\", \"log2\"],\n",
        "            \"model__n_estimators\": [100, 200]\n",
        "        }\n",
        "    },\n",
        "    \"SVR\": {\n",
        "        \"pipeline\": Pipeline([\n",
        "            (\"scaler\", scaler),\n",
        "            (\"model\", SVR())\n",
        "        ]),\n",
        "        \"param\": {\n",
        "            \"model__C\": [0.01, 0.1, 1, 10],\n",
        "            \"model__kernel\": [\"linear\", \"rbf\"],\n",
        "            \"model__gamma\": [\"scale\", \"auto\"]\n",
        "        }\n",
        "    },\n",
        "    \"KNN\": {\n",
        "        \"pipeline\": Pipeline([\n",
        "            (\"scaler\", scaler),\n",
        "            (\"model\", KNeighborsRegressor())\n",
        "        ]),\n",
        "        \"param\": {\n",
        "            \"model__n_neighbors\": [2, 3, 5, 10]\n",
        "        }\n",
        "    },\n",
        "    \"XGBoost\": {\n",
        "        \"pipeline\": Pipeline([\n",
        "            (\"scaler\", \"passthrough\"),   # XGBoost handles scaling internally\n",
        "            (\"model\", XGBRegressor(objective=\"reg:squarederror\", random_state=42))\n",
        "        ]),\n",
        "        \"param\": {\n",
        "            \"model__n_estimators\": [100, 200, 300],\n",
        "            \"model__max_depth\": [3, 5, 7, 10],\n",
        "            \"model__learning_rate\": [0.01, 0.05, 0.1],\n",
        "            \"model__subsample\": [0.8, 1.0],\n",
        "            \"model__colsample_bytree\": [0.8, 1.0]\n",
        "        }\n",
        "    },\n",
        "    \"Voting\": {\n",
        "        \"pipeline\": Pipeline([\n",
        "            (\"model\", VotingRegressor(\n",
        "                estimators=[\n",
        "                    (\"Linear Regression\", LinearRegression()),\n",
        "                    (\"Decision Tree\", DecisionTreeRegressor()),\n",
        "                    (\"Random Forest\", RandomForestRegressor()),\n",
        "                    (\"SVR\", SVR()),\n",
        "                    (\"KNN\", KNeighborsRegressor()),\n",
        "                    (\"XGBoost\", XGBRegressor(objective=\"reg:squarederror\", random_state=42))\n",
        "                ]\n",
        "            ))\n",
        "        ]),\n",
        "        \"param\": {}\n",
        "    }\n",
        "}\n"
      ]
    },
    {
      "cell_type": "code",
      "execution_count": 61,
      "metadata": {
        "colab": {
          "base_uri": "https://localhost:8080/",
          "height": 269
        },
        "id": "uiAL4OHI0M3m",
        "outputId": "d9a8d16b-ef7f-41c3-8c4b-371bca348200"
      },
      "outputs": [
        {
          "data": {
            "text/html": [
              "<div>\n",
              "<style scoped>\n",
              "    .dataframe tbody tr th:only-of-type {\n",
              "        vertical-align: middle;\n",
              "    }\n",
              "\n",
              "    .dataframe tbody tr th {\n",
              "        vertical-align: top;\n",
              "    }\n",
              "\n",
              "    .dataframe thead th {\n",
              "        text-align: right;\n",
              "    }\n",
              "</style>\n",
              "<table border=\"1\" class=\"dataframe\">\n",
              "  <thead>\n",
              "    <tr style=\"text-align: right;\">\n",
              "      <th></th>\n",
              "      <th>Model</th>\n",
              "      <th>BestParams</th>\n",
              "      <th>R2_Score</th>\n",
              "      <th>MSE</th>\n",
              "      <th>MAE</th>\n",
              "      <th>Best CV Score (R2)</th>\n",
              "      <th>BestEstimator</th>\n",
              "    </tr>\n",
              "  </thead>\n",
              "  <tbody>\n",
              "    <tr>\n",
              "      <th>0</th>\n",
              "      <td>Linear Regression</td>\n",
              "      <td>{}</td>\n",
              "      <td>0.448116</td>\n",
              "      <td>1.150692e+07</td>\n",
              "      <td>2450.412663</td>\n",
              "      <td>0.431691</td>\n",
              "      <td>(StandardScaler(), LinearRegression())</td>\n",
              "    </tr>\n",
              "    <tr>\n",
              "      <th>1</th>\n",
              "      <td>Decision Tree</td>\n",
              "      <td>{'model__criterion': 'squared_error', 'model__...</td>\n",
              "      <td>0.720042</td>\n",
              "      <td>5.837198e+06</td>\n",
              "      <td>1347.055347</td>\n",
              "      <td>0.758618</td>\n",
              "      <td>(passthrough, DecisionTreeRegressor(max_depth=...</td>\n",
              "    </tr>\n",
              "    <tr>\n",
              "      <th>2</th>\n",
              "      <td>Random Forest</td>\n",
              "      <td>{'model__criterion': 'absolute_error', 'model_...</td>\n",
              "      <td>0.805574</td>\n",
              "      <td>4.053838e+06</td>\n",
              "      <td>1234.229142</td>\n",
              "      <td>0.803498</td>\n",
              "      <td>(passthrough, (DecisionTreeRegressor(criterion...</td>\n",
              "    </tr>\n",
              "    <tr>\n",
              "      <th>3</th>\n",
              "      <td>SVR</td>\n",
              "      <td>{'model__C': 10, 'model__gamma': 'scale', 'mod...</td>\n",
              "      <td>0.404362</td>\n",
              "      <td>1.241921e+07</td>\n",
              "      <td>2354.327836</td>\n",
              "      <td>0.383619</td>\n",
              "      <td>(StandardScaler(), SVR(C=10, kernel='linear'))</td>\n",
              "    </tr>\n",
              "    <tr>\n",
              "      <th>4</th>\n",
              "      <td>KNN</td>\n",
              "      <td>{'model__n_neighbors': 5}</td>\n",
              "      <td>0.709857</td>\n",
              "      <td>6.049572e+06</td>\n",
              "      <td>1573.675012</td>\n",
              "      <td>0.693483</td>\n",
              "      <td>(StandardScaler(), KNeighborsRegressor())</td>\n",
              "    </tr>\n",
              "    <tr>\n",
              "      <th>5</th>\n",
              "      <td>XGBoost</td>\n",
              "      <td>{'model__colsample_bytree': 0.8, 'model__learn...</td>\n",
              "      <td>0.842050</td>\n",
              "      <td>3.293300e+06</td>\n",
              "      <td>1143.255859</td>\n",
              "      <td>0.836602</td>\n",
              "      <td>(passthrough, XGBRegressor(base_score=None, bo...</td>\n",
              "    </tr>\n",
              "    <tr>\n",
              "      <th>6</th>\n",
              "      <td>Voting</td>\n",
              "      <td>{}</td>\n",
              "      <td>0.741716</td>\n",
              "      <td>5.385299e+06</td>\n",
              "      <td>1569.840821</td>\n",
              "      <td>0.736349</td>\n",
              "      <td>(VotingRegressor(estimators=[('Linear Regressi...</td>\n",
              "    </tr>\n",
              "  </tbody>\n",
              "</table>\n",
              "</div>"
            ],
            "text/plain": [
              "               Model                                         BestParams  \\\n",
              "0  Linear Regression                                                 {}   \n",
              "1      Decision Tree  {'model__criterion': 'squared_error', 'model__...   \n",
              "2      Random Forest  {'model__criterion': 'absolute_error', 'model_...   \n",
              "3                SVR  {'model__C': 10, 'model__gamma': 'scale', 'mod...   \n",
              "4                KNN                          {'model__n_neighbors': 5}   \n",
              "5            XGBoost  {'model__colsample_bytree': 0.8, 'model__learn...   \n",
              "6             Voting                                                 {}   \n",
              "\n",
              "   R2_Score           MSE          MAE  Best CV Score (R2)  \\\n",
              "0  0.448116  1.150692e+07  2450.412663            0.431691   \n",
              "1  0.720042  5.837198e+06  1347.055347            0.758618   \n",
              "2  0.805574  4.053838e+06  1234.229142            0.803498   \n",
              "3  0.404362  1.241921e+07  2354.327836            0.383619   \n",
              "4  0.709857  6.049572e+06  1573.675012            0.693483   \n",
              "5  0.842050  3.293300e+06  1143.255859            0.836602   \n",
              "6  0.741716  5.385299e+06  1569.840821            0.736349   \n",
              "\n",
              "                                       BestEstimator  \n",
              "0             (StandardScaler(), LinearRegression())  \n",
              "1  (passthrough, DecisionTreeRegressor(max_depth=...  \n",
              "2  (passthrough, (DecisionTreeRegressor(criterion...  \n",
              "3     (StandardScaler(), SVR(C=10, kernel='linear'))  \n",
              "4          (StandardScaler(), KNeighborsRegressor())  \n",
              "5  (passthrough, XGBRegressor(base_score=None, bo...  \n",
              "6  (VotingRegressor(estimators=[('Linear Regressi...  "
            ]
          },
          "execution_count": 61,
          "metadata": {},
          "output_type": "execute_result"
        }
      ],
      "source": [
        "best_models = []\n",
        "\n",
        "for name, mp in param_grid.items():\n",
        "    grid = GridSearchCV(mp['pipeline'], mp['param'], cv=5, n_jobs=-1, scoring='r2')  \n",
        "    grid.fit(X_train, y_train)\n",
        "    y_pred = grid.predict(X_test)\n",
        "\n",
        "    best_models.append({\n",
        "        'Model': name,\n",
        "        'BestParams': grid.best_params_,\n",
        "        'R2_Score': r2_score(y_test, y_pred),\n",
        "        'MSE': mean_squared_error(y_test, y_pred),\n",
        "        'MAE': mean_absolute_error(y_test, y_pred),\n",
        "        'Best CV Score (R2)': grid.best_score_,\n",
        "        'BestEstimator': grid.best_estimator_\n",
        "    })\n",
        "\n",
        "res_df = pd.DataFrame(best_models)\n",
        "res_df"
      ]
    },
    {
      "cell_type": "code",
      "execution_count": 62,
      "metadata": {},
      "outputs": [
        {
          "name": "stdout",
          "output_type": "stream",
          "text": [
            "XGBoost saved successfully\n"
          ]
        }
      ],
      "source": [
        "import os\n",
        "from joblib import dump\n",
        "\n",
        "if not os.path.exists(\"models\"):\n",
        "    os.makedirs(\"models\")\n",
        "\n",
        "\n",
        "best_index = res_df['R2_Score'].idxmax()\n",
        "best_model_name = res_df.loc[best_index, 'Model']\n",
        "best_estimator = res_df.loc[best_index, 'BestEstimator']\n",
        "\n",
        "\n",
        "dump(best_estimator, f\"models/{best_model_name}_best_model.joblib\")\n",
        "print(f\"{best_model_name} saved successfully\")\n",
        "\n"
      ]
    }
  ],
  "metadata": {
    "accelerator": "GPU",
    "colab": {
      "gpuType": "T4",
      "provenance": []
    },
    "kernelspec": {
      "display_name": "Python 3",
      "language": "python",
      "name": "python3"
    },
    "language_info": {
      "codemirror_mode": {
        "name": "ipython",
        "version": 3
      },
      "file_extension": ".py",
      "mimetype": "text/x-python",
      "name": "python",
      "nbconvert_exporter": "python",
      "pygments_lexer": "ipython3",
      "version": "3.13.3"
    }
  },
  "nbformat": 4,
  "nbformat_minor": 0
}
